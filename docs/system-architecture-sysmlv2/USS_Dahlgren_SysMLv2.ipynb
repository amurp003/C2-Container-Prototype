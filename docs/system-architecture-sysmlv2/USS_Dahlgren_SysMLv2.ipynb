{
 "cells": [
  {
   "cell_type": "markdown",
   "id": "71e4b6ca",
   "metadata": {},
   "source": [
    "**Learning Objective**  \n",
    "This tutorial has been written for learners that are new to SysML v2 modeling. The intent of this tutorial is to provide material for learning how to model basic SysML based engineering artifacts that are fundamental to combat system engineering and generation of system design documentation. The exercise is not meant to be exhaustive but provide enough basic content to learn how to build the SysML models."
   ]
  },
  {
   "cell_type": "markdown",
   "id": "598ba68f",
   "metadata": {},
   "source": [
    "**Top-Level Requirements (TLR) for the Surface Combat System (SCS)**  \n",
    "The proposed user community wrote TLRs for a system to meet operational needs. These requirements are from the user but must be refined through systems engineering practices into SCS System and Subsystem documentation. Enter these requirements into the SCS model.\n",
    " \n",
    "* The SCS shall have weapon systems to engage and negate targets across air and surface warfighting domains. [TLR 1]\n",
    "* The SCS shall have sensors to detect air and surface targets. [TLR 2]\n",
    "* The SCS shall have a combat management system to provide integrated command and control of combat system resources (e.g. sensors, weapons, external communications). [TLR 3]\n",
    "* The SCS shall have an operational availability of 99.999%. [TLR 4]"
   ]
  },
  {
   "cell_type": "code",
   "execution_count": 1,
   "id": "f840354c",
   "metadata": {},
   "outputs": [
    {
     "data": {
      "text/plain": [
       "Package USS_Dahlgren_SCS_TLR (dec278c1-b066-4380-bb55-4c93986e4d45)\n"
      ]
     },
     "execution_count": 1,
     "metadata": {},
     "output_type": "execute_result"
    }
   ],
   "source": [
    "package USS_Dahlgren_SCS_TLR{\n",
    "    part def SCS;\n",
    "    \n",
    "    requirement 'SCS TLR'{\n",
    "        doc /* Surface Combat System Top-Level Requirements (TLR) */\n",
    "        requirement def <'TLR001'> 'SCS Weapons' {\n",
    "            doc /* The SCS shall have weapon systems to engage and negate targets across \n",
    "            * air and surface warfighting domains. */\n",
    "        }\n",
    "        requirement def <'TLR002'> 'SCS Sensors' {\n",
    "            doc /* The SCS shall have sensors to detect air and surface targets. */ \n",
    "        }\n",
    "        requirement def <'TLR003'> 'CMS Integration' {\n",
    "            doc /* The SCS shall have a Combat Management System (CMS) to provide integrated\n",
    "            * command and control combat system resources (e.g. sensors, weapons, external\n",
    "            * communications). */\n",
    "        }\n",
    "         requirement def <'TLR004'> 'SCS Availability' {\n",
    "            doc /* The SCS shall have an operational availability of 99.999%. */\n",
    "        }\n",
    "    }    \n",
    "}"
   ]
  },
  {
   "cell_type": "code",
   "execution_count": 2,
   "id": "d8159772",
   "metadata": {},
   "outputs": [
    {
     "data": {
      "image/svg+xml": [
       "<?xml version=\"1.0\" encoding=\"UTF-8\" standalone=\"no\"?><svg xmlns=\"http://www.w3.org/2000/svg\" xmlns:xlink=\"http://www.w3.org/1999/xlink\" contentStyleType=\"text/css\" height=\"355px\" preserveAspectRatio=\"none\" style=\"width:1312px;height:355px;background:#FFFFFF;\" version=\"1.1\" viewBox=\"0 0 1312 355\" width=\"1312px\" zoomAndPan=\"magnify\"><defs/><g><!--MD5=[fbc87193dbaf4d95561dea2c320d4a47]\n",
       "cluster E1--><g id=\"cluster_E1\"><a href=\"psysml:dec278c1-b066-4380-bb55-4c93986e4d45\" target=\"_top\" title=\"psysml:dec278c1-b066-4380-bb55-4c93986e4d45\" xlink:actuate=\"onRequest\" xlink:href=\"psysml:dec278c1-b066-4380-bb55-4c93986e4d45\" xlink:show=\"new\" xlink:title=\"psysml:dec278c1-b066-4380-bb55-4c93986e4d45\" xlink:type=\"simple\"><polygon fill=\"none\" points=\"16,6,188,6,195,28.2969,1295,28.2969,1295,348,16,348,16,6\" style=\"stroke:#000000;stroke-width:1.5;\"/><line style=\"stroke:#000000;stroke-width:1.5;\" x1=\"16\" x2=\"195\" y1=\"28.2969\" y2=\"28.2969\"/><text fill=\"#000000\" font-family=\"sans-serif\" font-size=\"14\" font-weight=\"bold\" lengthAdjust=\"spacing\" textLength=\"166\" x=\"20\" y=\"20.9951\">USS_Dahlgren_SCS_TLR</text></a></g><!--MD5=[b4997ac47864f28c2f74865a473b2911]\n",
       "class E2--><a href=\"psysml:f462c7ef-dbce-49f1-9db6-24fc877820d9\" target=\"_top\" title=\"psysml:f462c7ef-dbce-49f1-9db6-24fc877820d9\" xlink:actuate=\"onRequest\" xlink:href=\"psysml:f462c7ef-dbce-49f1-9db6-24fc877820d9\" xlink:show=\"new\" xlink:title=\"psysml:f462c7ef-dbce-49f1-9db6-24fc877820d9\" xlink:type=\"simple\"><g id=\"elem_E2\"><rect fill=\"#FFFFFF\" height=\"48.2656\" id=\"E2\" style=\"stroke:#181818;stroke-width:0.5;\" width=\"70\" x=\"1072\" y=\"62.5\"/><text fill=\"#000000\" font-family=\"sans-serif\" font-size=\"12\" font-style=\"italic\" lengthAdjust=\"spacing\" textLength=\"68\" x=\"1073\" y=\"78.6387\">«part  def»</text><text fill=\"#000000\" font-family=\"sans-serif\" font-size=\"14\" lengthAdjust=\"spacing\" textLength=\"28\" x=\"1093\" y=\"94.4639\">SCS</text><line style=\"stroke:#181818;stroke-width:0.5;\" x1=\"1073\" x2=\"1141\" y1=\"102.7656\" y2=\"102.7656\"/></g></a><!--MD5=[09b614a08d8cba4a07c9adeb5e0fee81]\n",
       "class E3--><a href=\"psysml:4f09dfae-223d-4d0c-a083-917768f57f04\" target=\"_top\" title=\"psysml:4f09dfae-223d-4d0c-a083-917768f57f04\" xlink:actuate=\"onRequest\" xlink:href=\"psysml:4f09dfae-223d-4d0c-a083-917768f57f04\" xlink:show=\"new\" xlink:title=\"psysml:4f09dfae-223d-4d0c-a083-917768f57f04\" xlink:type=\"simple\"><g id=\"elem_E3\"><rect fill=\"#FFFFFF\" height=\"91.3781\" id=\"E3\" rx=\"10\" ry=\"10\" style=\"stroke:#181818;stroke-width:0.5;\" width=\"252\" x=\"511\" y=\"41\"/><text fill=\"#000000\" font-family=\"sans-serif\" font-size=\"12\" font-style=\"italic\" lengthAdjust=\"spacing\" textLength=\"91\" x=\"591.5\" y=\"57.1387\">«requirement»</text><text fill=\"#000000\" font-family=\"sans-serif\" font-size=\"14\" lengthAdjust=\"spacing\" textLength=\"58\" x=\"604\" y=\"72.9639\">SCS TLR</text><line style=\"stroke:#181818;stroke-width:0.5;\" x1=\"512\" x2=\"762\" y1=\"81.2656\" y2=\"81.2656\"/><text fill=\"#000000\" font-family=\"sans-serif\" font-size=\"14\" lengthAdjust=\"spacing\" textLength=\"236\" x=\"517\" y=\"108.7795\">Surface Combat System Top-Level</text><text fill=\"#000000\" font-family=\"sans-serif\" font-size=\"14\" lengthAdjust=\"spacing\" textLength=\"138\" x=\"517\" y=\"125.0764\">Requirements (TLR)</text><text fill=\"#000000\" font-family=\"sans-serif\" font-size=\"14\" font-style=\"italic\" lengthAdjust=\"spacing\" textLength=\"26\" x=\"624\" y=\"93.6123\">doc</text></g></a><!--MD5=[ebbe1d658d1005bcc118a6aa81145e00]\n",
       "class E4--><a href=\"psysml:855b0733-89e5-44bf-a4a7-dc2e740ba06e\" target=\"_top\" title=\"psysml:855b0733-89e5-44bf-a4a7-dc2e740ba06e\" xlink:actuate=\"onRequest\" xlink:href=\"psysml:855b0733-89e5-44bf-a4a7-dc2e740ba06e\" xlink:show=\"new\" xlink:title=\"psysml:855b0733-89e5-44bf-a4a7-dc2e740ba06e\" xlink:type=\"simple\"><g id=\"elem_E4\"><rect fill=\"#FFFFFF\" height=\"107.675\" id=\"E4\" style=\"stroke:#181818;stroke-width:0.5;\" width=\"286\" x=\"32\" y=\"208\"/><text fill=\"#000000\" font-family=\"sans-serif\" font-size=\"12\" font-style=\"italic\" lengthAdjust=\"spacing\" textLength=\"119\" x=\"115.5\" y=\"224.1387\">«requirement  def»</text><text fill=\"#000000\" font-family=\"sans-serif\" font-size=\"14\" lengthAdjust=\"spacing\" textLength=\"178\" x=\"86\" y=\"239.9639\">&lt;TLR001&gt; SCS Weapons</text><line style=\"stroke:#181818;stroke-width:0.5;\" x1=\"33\" x2=\"317\" y1=\"248.2656\" y2=\"248.2656\"/><text fill=\"#000000\" font-family=\"sans-serif\" font-size=\"14\" lengthAdjust=\"spacing\" textLength=\"270\" x=\"38\" y=\"275.7795\">The SCS shall have weapon systems to</text><text fill=\"#000000\" font-family=\"sans-serif\" font-size=\"14\" lengthAdjust=\"spacing\" textLength=\"239\" x=\"38\" y=\"292.0764\">engage and negate targets across</text><text fill=\"#000000\" font-family=\"sans-serif\" font-size=\"14\" lengthAdjust=\"spacing\" textLength=\"247\" x=\"38\" y=\"308.3732\">air and surface warfighting domains.</text><text fill=\"#000000\" font-family=\"sans-serif\" font-size=\"14\" font-style=\"italic\" lengthAdjust=\"spacing\" textLength=\"26\" x=\"162\" y=\"260.6123\">doc</text></g></a><!--MD5=[270fce915f116d4de14055a7c1d9a0f3]\n",
       "class E5--><a href=\"psysml:84fa672d-9b00-4e0c-a9e8-5cd434867b3e\" target=\"_top\" title=\"psysml:84fa672d-9b00-4e0c-a9e8-5cd434867b3e\" xlink:actuate=\"onRequest\" xlink:href=\"psysml:84fa672d-9b00-4e0c-a9e8-5cd434867b3e\" xlink:show=\"new\" xlink:title=\"psysml:84fa672d-9b00-4e0c-a9e8-5cd434867b3e\" xlink:type=\"simple\"><g id=\"elem_E5\"><rect fill=\"#FFFFFF\" height=\"91.3781\" id=\"E5\" style=\"stroke:#181818;stroke-width:0.5;\" width=\"294\" x=\"353\" y=\"216.5\"/><text fill=\"#000000\" font-family=\"sans-serif\" font-size=\"12\" font-style=\"italic\" lengthAdjust=\"spacing\" textLength=\"119\" x=\"440.5\" y=\"232.6387\">«requirement  def»</text><text fill=\"#000000\" font-family=\"sans-serif\" font-size=\"14\" lengthAdjust=\"spacing\" textLength=\"170\" x=\"415\" y=\"248.4639\">&lt;TLR002&gt; SCS Sensors</text><line style=\"stroke:#181818;stroke-width:0.5;\" x1=\"354\" x2=\"646\" y1=\"256.7656\" y2=\"256.7656\"/><text fill=\"#000000\" font-family=\"sans-serif\" font-size=\"14\" lengthAdjust=\"spacing\" textLength=\"278\" x=\"359\" y=\"284.2795\">The SCS shall have sensors to detect air</text><text fill=\"#000000\" font-family=\"sans-serif\" font-size=\"14\" lengthAdjust=\"spacing\" textLength=\"138\" x=\"359\" y=\"300.5764\">and surface targets.</text><text fill=\"#000000\" font-family=\"sans-serif\" font-size=\"14\" font-style=\"italic\" lengthAdjust=\"spacing\" textLength=\"26\" x=\"487\" y=\"269.1123\">doc</text></g></a><!--MD5=[60a26617385b1d2d0262a64233df1f8d]\n",
       "class E6--><a href=\"psysml:54c077fe-c184-4942-b34b-cd999f9d4c6d\" target=\"_top\" title=\"psysml:54c077fe-c184-4942-b34b-cd999f9d4c6d\" xlink:actuate=\"onRequest\" xlink:href=\"psysml:54c077fe-c184-4942-b34b-cd999f9d4c6d\" xlink:show=\"new\" xlink:title=\"psysml:54c077fe-c184-4942-b34b-cd999f9d4c6d\" xlink:type=\"simple\"><g id=\"elem_E6\"><rect fill=\"#FFFFFF\" height=\"140.2688\" id=\"E6\" style=\"stroke:#181818;stroke-width:0.5;\" width=\"312\" x=\"682\" y=\"192\"/><text fill=\"#000000\" font-family=\"sans-serif\" font-size=\"12\" font-style=\"italic\" lengthAdjust=\"spacing\" textLength=\"119\" x=\"778.5\" y=\"208.1387\">«requirement  def»</text><text fill=\"#000000\" font-family=\"sans-serif\" font-size=\"14\" lengthAdjust=\"spacing\" textLength=\"190\" x=\"743\" y=\"223.9639\">&lt;TLR003&gt; CMS Integration</text><line style=\"stroke:#181818;stroke-width:0.5;\" x1=\"683\" x2=\"993\" y1=\"232.2656\" y2=\"232.2656\"/><text fill=\"#000000\" font-family=\"sans-serif\" font-size=\"14\" lengthAdjust=\"spacing\" textLength=\"296\" x=\"688\" y=\"259.7795\">The SCS shall have a Combat Management</text><text fill=\"#000000\" font-family=\"sans-serif\" font-size=\"14\" lengthAdjust=\"spacing\" textLength=\"244\" x=\"688\" y=\"276.0764\">System (CMS) to provide integrated</text><text fill=\"#000000\" font-family=\"sans-serif\" font-size=\"14\" lengthAdjust=\"spacing\" textLength=\"261\" x=\"688\" y=\"292.3732\">command and control combat system</text><text fill=\"#000000\" font-family=\"sans-serif\" font-size=\"14\" lengthAdjust=\"spacing\" textLength=\"299\" x=\"688\" y=\"308.6701\">resources (e.g. sensors, weapons, external</text><text fill=\"#000000\" font-family=\"sans-serif\" font-size=\"14\" lengthAdjust=\"spacing\" textLength=\"123\" x=\"688\" y=\"324.967\">communications).</text><text fill=\"#000000\" font-family=\"sans-serif\" font-size=\"14\" font-style=\"italic\" lengthAdjust=\"spacing\" textLength=\"26\" x=\"825\" y=\"244.6123\">doc</text></g></a><!--MD5=[2156ba9850f5573cc1fc38a6a4b2f02b]\n",
       "class E7--><a href=\"psysml:5f1bad27-7401-4505-8f4a-471d0ee43cac\" target=\"_top\" title=\"psysml:5f1bad27-7401-4505-8f4a-471d0ee43cac\" xlink:actuate=\"onRequest\" xlink:href=\"psysml:5f1bad27-7401-4505-8f4a-471d0ee43cac\" xlink:show=\"new\" xlink:title=\"psysml:5f1bad27-7401-4505-8f4a-471d0ee43cac\" xlink:type=\"simple\"><g id=\"elem_E7\"><rect fill=\"#FFFFFF\" height=\"91.3781\" id=\"E7\" style=\"stroke:#181818;stroke-width:0.5;\" width=\"249\" x=\"1029.5\" y=\"216.5\"/><text fill=\"#000000\" font-family=\"sans-serif\" font-size=\"12\" font-style=\"italic\" lengthAdjust=\"spacing\" textLength=\"119\" x=\"1094.5\" y=\"232.6387\">«requirement  def»</text><text fill=\"#000000\" font-family=\"sans-serif\" font-size=\"14\" lengthAdjust=\"spacing\" textLength=\"181\" x=\"1063.5\" y=\"248.4639\">&lt;TLR004&gt; SCS Availability</text><line style=\"stroke:#181818;stroke-width:0.5;\" x1=\"1030.5\" x2=\"1277.5\" y1=\"256.7656\" y2=\"256.7656\"/><text fill=\"#000000\" font-family=\"sans-serif\" font-size=\"14\" lengthAdjust=\"spacing\" textLength=\"233\" x=\"1035.5\" y=\"284.2795\">The SCS shall have an operational</text><text fill=\"#000000\" font-family=\"sans-serif\" font-size=\"14\" lengthAdjust=\"spacing\" textLength=\"154\" x=\"1035.5\" y=\"300.5764\">availability of 99.999%.</text><text fill=\"#000000\" font-family=\"sans-serif\" font-size=\"14\" font-style=\"italic\" lengthAdjust=\"spacing\" textLength=\"26\" x=\"1141\" y=\"269.1123\">doc</text></g></a><!--MD5=[4672eba38e49728da53d11aeb285b987]\n",
       "reverse link E3 to E4--><g id=\"link_E3_E4\"><a href=\"psysml:f41f1f79-f508-4966-a530-e5521179ec4d\" target=\"_top\" title=\"psysml:f41f1f79-f508-4966-a530-e5521179ec4d\" xlink:actuate=\"onRequest\" xlink:href=\"psysml:f41f1f79-f508-4966-a530-e5521179ec4d\" xlink:show=\"new\" xlink:title=\"psysml:f41f1f79-f508-4966-a530-e5521179ec4d\" xlink:type=\"simple\"><path d=\"M496.22,134.07 C445.44,151.48 387.87,171.91 336,192 C323.1,197 309.7,202.4 296.38,207.9 \" fill=\"none\" id=\"E3-backto-E4\" style=\"stroke:#181818;stroke-width:1.0;\"/><ellipse cx=\"503.129\" cy=\"131.7147\" fill=\"#FFFFFF\" rx=\"8\" ry=\"8\" style=\"stroke:#181818;stroke-width:1.0;\"/><line style=\"stroke:#181818;stroke-width:1.0;\" x1=\"495.5581\" x2=\"510.7\" y1=\"134.2993\" y2=\"129.13\"/><line style=\"stroke:#181818;stroke-width:1.0;\" x1=\"500.5444\" x2=\"505.7137\" y1=\"124.1437\" y2=\"139.2856\"/></a></g><!--MD5=[191cde3d490a3f6d7bb551fe3ddca469]\n",
       "reverse link E3 to E5--><g id=\"link_E3_E5\"><a href=\"psysml:287cb821-e5e4-4464-877f-894b3ffa1bf7\" target=\"_top\" title=\"psysml:287cb821-e5e4-4464-877f-894b3ffa1bf7\" xlink:actuate=\"onRequest\" xlink:href=\"psysml:287cb821-e5e4-4464-877f-894b3ffa1bf7\" xlink:show=\"new\" xlink:title=\"psysml:287cb821-e5e4-4464-877f-894b3ffa1bf7\" xlink:type=\"simple\"><path d=\"M592.3,144.11 C573.76,167.59 552.56,194.43 535.16,216.47 \" fill=\"none\" id=\"E3-backto-E5\" style=\"stroke:#181818;stroke-width:1.0;\"/><ellipse cx=\"596.7606\" cy=\"138.4573\" fill=\"#FFFFFF\" rx=\"8\" ry=\"8\" style=\"stroke:#181818;stroke-width:1.0;\"/><line style=\"stroke:#181818;stroke-width:1.0;\" x1=\"591.8012\" x2=\"601.72\" y1=\"144.7346\" y2=\"132.18\"/><line style=\"stroke:#181818;stroke-width:1.0;\" x1=\"590.4833\" x2=\"603.0379\" y1=\"133.4979\" y2=\"143.4167\"/></a></g><!--MD5=[1026b4b93417a13aa8999a858998add2]\n",
       "reverse link E3 to E6--><g id=\"link_E3_E6\"><a href=\"psysml:779c8a07-c234-46d3-add8-5e3accea8efc\" target=\"_top\" title=\"psysml:779c8a07-c234-46d3-add8-5e3accea8efc\" xlink:actuate=\"onRequest\" xlink:href=\"psysml:779c8a07-c234-46d3-add8-5e3accea8efc\" xlink:show=\"new\" xlink:title=\"psysml:779c8a07-c234-46d3-add8-5e3accea8efc\" xlink:type=\"simple\"><path d=\"M700.19,142.04 C718.49,157.84 738.73,175.31 757.93,191.88 \" fill=\"none\" id=\"E3-backto-E6\" style=\"stroke:#181818;stroke-width:1.0;\"/><ellipse cx=\"694.8168\" cy=\"137.4064\" fill=\"#FFFFFF\" rx=\"8\" ry=\"8\" style=\"stroke:#181818;stroke-width:1.0;\"/><line style=\"stroke:#181818;stroke-width:1.0;\" x1=\"700.8736\" x2=\"688.76\" y1=\"142.6328\" y2=\"132.18\"/><line style=\"stroke:#181818;stroke-width:1.0;\" x1=\"689.5904\" x2=\"700.0432\" y1=\"143.4632\" y2=\"131.3496\"/></a></g><!--MD5=[85760999379eecfd2565a9fecdca67e4]\n",
       "reverse link E3 to E7--><g id=\"link_E3_E7\"><a href=\"psysml:1778d74d-2146-4a1e-a6ee-79c8236f89c4\" target=\"_top\" title=\"psysml:1778d74d-2146-4a1e-a6ee-79c8236f89c4\" xlink:actuate=\"onRequest\" xlink:href=\"psysml:1778d74d-2146-4a1e-a6ee-79c8236f89c4\" xlink:show=\"new\" xlink:title=\"psysml:1778d74d-2146-4a1e-a6ee-79c8236f89c4\" xlink:type=\"simple\"><path d=\"M778.31,120.44 C849.41,138.63 936.32,163.34 1012,192 C1030.71,199.09 1050.3,207.74 1068.74,216.5 \" fill=\"none\" id=\"E3-backto-E7\" style=\"stroke:#181818;stroke-width:1.0;\"/><ellipse cx=\"771.1448\" cy=\"118.6254\" fill=\"#FFFFFF\" rx=\"8\" ry=\"8\" style=\"stroke:#181818;stroke-width:1.0;\"/><line style=\"stroke:#181818;stroke-width:1.0;\" x1=\"778.8997\" x2=\"763.39\" y1=\"120.5907\" y2=\"116.66\"/><line style=\"stroke:#181818;stroke-width:1.0;\" x1=\"769.1795\" x2=\"773.1102\" y1=\"126.3802\" y2=\"110.8705\"/></a></g><!--MD5=[318174cb411b94bdad29b96ae2a5b237]\n",
       "@startuml\r\n",
       "skin sysmlbw\r\n",
       "skinparam monochrome true\r\n",
       "skinparam wrapWidth 300\r\n",
       "hide circle\r\n",
       "\r\n",
       "package \"USS_Dahlgren_SCS_TLR\" as E1  [[psysml:dec278c1-b066-4380-bb55-4c93986e4d45 ]]  {\r\n",
       "comp def \"SCS\" as E2  <<(T,blue) part  def>> [[psysml:f462c7ef-dbce-49f1-9db6-24fc877820d9 ]] {\r\n",
       "}\r\n",
       "comp usage \"SCS TLR  \" as E3  <<(T,blue) requirement>> [[psysml:4f09dfae-223d-4d0c-a083-917768f57f04 ]] {\r\n",
       "##//doc//##\r\n",
       "Surface Combat System Top<U+002D>Level Requirements (TLR)\r\n",
       "}\r\n",
       "comp def \"~<TLR001> SCS Weapons\" as E4  <<(T,blue) requirement  def>> [[psysml:855b0733-89e5-44bf-a4a7-dc2e740ba06e ]] {\r\n",
       "##//doc//##\r\n",
       "The SCS shall have weapon systems to engage and negate targets across \\nair and surface warfighting domains.\r\n",
       "}\r\n",
       "comp def \"~<TLR002> SCS Sensors\" as E5  <<(T,blue) requirement  def>> [[psysml:84fa672d-9b00-4e0c-a9e8-5cd434867b3e ]] {\r\n",
       "##//doc//##\r\n",
       "The SCS shall have sensors to detect air and surface targets.\r\n",
       "}\r\n",
       "comp def \"~<TLR003> CMS Integration\" as E6  <<(T,blue) requirement  def>> [[psysml:54c077fe-c184-4942-b34b-cd999f9d4c6d ]] {\r\n",
       "##//doc//##\r\n",
       "The SCS shall have a Combat Management System (CMS) to provide integrated\\ncommand and control combat system resources (e.g. sensors, weapons, external\\ncommunications).\r\n",
       "}\r\n",
       "comp def \"~<TLR004> SCS Availability\" as E7  <<(T,blue) requirement  def>> [[psysml:5f1bad27-7401-4505-8f4a-471d0ee43cac ]] {\r\n",
       "##//doc//##\r\n",
       "The SCS shall have an operational availability of 99.999%.\r\n",
       "}\r\n",
       "}\r\n",
       "E3 +- - E4 [[psysml:f41f1f79-f508-4966-a530-e5521179ec4d ]] \r\n",
       "E3 +- - E5 [[psysml:287cb821-e5e4-4464-877f-894b3ffa1bf7 ]] \r\n",
       "E3 +- - E6 [[psysml:779c8a07-c234-46d3-add8-5e3accea8efc ]] \r\n",
       "E3 +- - E7 [[psysml:1778d74d-2146-4a1e-a6ee-79c8236f89c4 ]] \r\n",
       "@enduml\r\n",
       "\n",
       "PlantUML version 1.2022.7(Mon Aug 22 17:01:30 UTC 2022)\n",
       "(EPL source distribution)\n",
       "Java Runtime: OpenJDK Runtime Environment\n",
       "JVM: OpenJDK 64-Bit Server VM\n",
       "Default Encoding: UTF-8\n",
       "Language: en\n",
       "Country: null\n",
       "--></g></svg>"
      ]
     },
     "execution_count": 2,
     "metadata": {},
     "output_type": "execute_result"
    }
   ],
   "source": [
    "%viz --view=Tree USS_Dahlgren_SCS_TLR\n",
    "// %viz USS_Dahlgren_TLR"
   ]
  },
  {
   "cell_type": "markdown",
   "id": "6175aa2a",
   "metadata": {},
   "source": [
    "**System Specification (SSS) for the SCS**  \n",
    "Each TLR is further decomposed into “testable” system requirements for the SCS. A few are presented here. Please write 5 more using IEEE 29148 standard format practices. Enter these requirements into the model and show traceability within the model.  \n",
    "  \n",
    "29148-2018 - ISO/IEC/IEEE International Standard - Systems and software engineering -- Life cycle processes -- Requirements engineering\n",
    "  \n",
    "* The SCS shall engage and negate air targets. [SCS 1] Derived from TLR 1.\n",
    "* The SCS shall detect air targets. [SCS 2] Derived from TLR 2.\n",
    "* The SCS shall maintain an availability of 99.999% during normal operations. [SCS 3] Derived from TLR 4.\n"
   ]
  },
  {
   "cell_type": "code",
   "execution_count": 9,
   "id": "589587ef",
   "metadata": {},
   "outputs": [
    {
     "data": {
      "text/plain": [
       "Package SCS_SSS (96f7de2f-12aa-4dfc-a5ed-fabbfe31e52f)\n"
      ]
     },
     "execution_count": 9,
     "metadata": {},
     "output_type": "execute_result"
    }
   ],
   "source": [
    "package SCS_SSS{\n",
    "    part def SCS;\n",
    "    \n",
    "    requirement 'SCS SSS'{\n",
    "        doc /* System Specification (SSS) for the Surface Combat System (SCS) */\n",
    "        requirement def <'SCS001'> 'Engage Air Targets' {\n",
    "            doc /* The SCS shall engage air targets. */\n",
    "        }\n",
    "        requirement def <'SCS002'> 'Detect Air Targets' {\n",
    "            doc /* The SCS shall detect air targets. */ \n",
    "        }\n",
    "        requirement def <'SCS003'> 'SCS Availability' {\n",
    "            doc /* The SCS shall maintain an availability of 99.999 during normal operations. */\n",
    "        }\n",
    "    }    \n",
    "}"
   ]
  },
  {
   "cell_type": "code",
   "execution_count": 10,
   "id": "dd32557f",
   "metadata": {},
   "outputs": [
    {
     "data": {
      "image/svg+xml": [
       "<?xml version=\"1.0\" encoding=\"UTF-8\" standalone=\"no\"?><svg xmlns=\"http://www.w3.org/2000/svg\" xmlns:xlink=\"http://www.w3.org/1999/xlink\" contentStyleType=\"text/css\" height=\"306px\" preserveAspectRatio=\"none\" style=\"width:889px;height:306px;background:#FFFFFF;\" version=\"1.1\" viewBox=\"0 0 889 306\" width=\"889px\" zoomAndPan=\"magnify\"><defs/><g><!--MD5=[fbc87193dbaf4d95561dea2c320d4a47]\n",
       "cluster E1--><g id=\"cluster_E1\"><a href=\"psysml:96f7de2f-12aa-4dfc-a5ed-fabbfe31e52f\" target=\"_top\" title=\"psysml:96f7de2f-12aa-4dfc-a5ed-fabbfe31e52f\" xlink:actuate=\"onRequest\" xlink:href=\"psysml:96f7de2f-12aa-4dfc-a5ed-fabbfe31e52f\" xlink:show=\"new\" xlink:title=\"psysml:96f7de2f-12aa-4dfc-a5ed-fabbfe31e52f\" xlink:type=\"simple\"><polygon fill=\"none\" points=\"16,6,84,6,91,28.2969,872,28.2969,872,299,16,299,16,6\" style=\"stroke:#000000;stroke-width:1.5;\"/><line style=\"stroke:#000000;stroke-width:1.5;\" x1=\"16\" x2=\"91\" y1=\"28.2969\" y2=\"28.2969\"/><text fill=\"#000000\" font-family=\"sans-serif\" font-size=\"14\" font-weight=\"bold\" lengthAdjust=\"spacing\" textLength=\"62\" x=\"20\" y=\"20.9951\">SCS_SSS</text></a></g><!--MD5=[b4997ac47864f28c2f74865a473b2911]\n",
       "class E2--><a href=\"psysml:7a35ae37-430b-4f6c-84f2-fdbbe05e16f8\" target=\"_top\" title=\"psysml:7a35ae37-430b-4f6c-84f2-fdbbe05e16f8\" xlink:actuate=\"onRequest\" xlink:href=\"psysml:7a35ae37-430b-4f6c-84f2-fdbbe05e16f8\" xlink:show=\"new\" xlink:title=\"psysml:7a35ae37-430b-4f6c-84f2-fdbbe05e16f8\" xlink:type=\"simple\"><g id=\"elem_E2\"><rect fill=\"#FFFFFF\" height=\"48.2656\" id=\"E2\" style=\"stroke:#181818;stroke-width:0.5;\" width=\"70\" x=\"698\" y=\"62.5\"/><text fill=\"#000000\" font-family=\"sans-serif\" font-size=\"12\" font-style=\"italic\" lengthAdjust=\"spacing\" textLength=\"68\" x=\"699\" y=\"78.6387\">«part  def»</text><text fill=\"#000000\" font-family=\"sans-serif\" font-size=\"14\" lengthAdjust=\"spacing\" textLength=\"28\" x=\"719\" y=\"94.4639\">SCS</text><line style=\"stroke:#181818;stroke-width:0.5;\" x1=\"699\" x2=\"767\" y1=\"102.7656\" y2=\"102.7656\"/></g></a><!--MD5=[09b614a08d8cba4a07c9adeb5e0fee81]\n",
       "class E3--><a href=\"psysml:2611f755-c3fe-4c89-8662-d944aeda0c36\" target=\"_top\" title=\"psysml:2611f755-c3fe-4c89-8662-d944aeda0c36\" xlink:actuate=\"onRequest\" xlink:href=\"psysml:2611f755-c3fe-4c89-8662-d944aeda0c36\" xlink:show=\"new\" xlink:title=\"psysml:2611f755-c3fe-4c89-8662-d944aeda0c36\" xlink:type=\"simple\"><g id=\"elem_E3\"><rect fill=\"#FFFFFF\" height=\"91.3781\" id=\"E3\" rx=\"10\" ry=\"10\" style=\"stroke:#181818;stroke-width:0.5;\" width=\"304\" x=\"271\" y=\"41\"/><text fill=\"#000000\" font-family=\"sans-serif\" font-size=\"12\" font-style=\"italic\" lengthAdjust=\"spacing\" textLength=\"91\" x=\"377.5\" y=\"57.1387\">«requirement»</text><text fill=\"#000000\" font-family=\"sans-serif\" font-size=\"14\" lengthAdjust=\"spacing\" textLength=\"59\" x=\"389.5\" y=\"72.9639\">SCS SSS</text><line style=\"stroke:#181818;stroke-width:0.5;\" x1=\"272\" x2=\"574\" y1=\"81.2656\" y2=\"81.2656\"/><text fill=\"#000000\" font-family=\"sans-serif\" font-size=\"14\" lengthAdjust=\"spacing\" textLength=\"288\" x=\"277\" y=\"108.7795\">System Specification (SSS) for the Surface</text><text fill=\"#000000\" font-family=\"sans-serif\" font-size=\"14\" lengthAdjust=\"spacing\" textLength=\"151\" x=\"277\" y=\"125.0764\">Combat System (SCS)</text><text fill=\"#000000\" font-family=\"sans-serif\" font-size=\"14\" font-style=\"italic\" lengthAdjust=\"spacing\" textLength=\"26\" x=\"410\" y=\"93.6123\">doc</text></g></a><!--MD5=[ebbe1d658d1005bcc118a6aa81145e00]\n",
       "class E4--><a href=\"psysml:b9bd654e-4284-41b1-a8c0-8dbc0504d31a\" target=\"_top\" title=\"psysml:b9bd654e-4284-41b1-a8c0-8dbc0504d31a\" xlink:actuate=\"onRequest\" xlink:href=\"psysml:b9bd654e-4284-41b1-a8c0-8dbc0504d31a\" xlink:show=\"new\" xlink:title=\"psysml:b9bd654e-4284-41b1-a8c0-8dbc0504d31a\" xlink:type=\"simple\"><g id=\"elem_E4\"><rect fill=\"#FFFFFF\" height=\"75.0813\" id=\"E4\" style=\"stroke:#181818;stroke-width:0.5;\" width=\"240\" x=\"32\" y=\"200\"/><text fill=\"#000000\" font-family=\"sans-serif\" font-size=\"12\" font-style=\"italic\" lengthAdjust=\"spacing\" textLength=\"119\" x=\"92.5\" y=\"216.1387\">«requirement  def»</text><text fill=\"#000000\" font-family=\"sans-serif\" font-size=\"14\" lengthAdjust=\"spacing\" textLength=\"214\" x=\"45\" y=\"231.9639\">&lt;SCS001&gt; Engage Air Targets</text><line style=\"stroke:#181818;stroke-width:0.5;\" x1=\"33\" x2=\"271\" y1=\"240.2656\" y2=\"240.2656\"/><text fill=\"#000000\" font-family=\"sans-serif\" font-size=\"14\" lengthAdjust=\"spacing\" textLength=\"228\" x=\"38\" y=\"267.7795\">The SCS shall engage air targets.</text><text fill=\"#000000\" font-family=\"sans-serif\" font-size=\"14\" font-style=\"italic\" lengthAdjust=\"spacing\" textLength=\"26\" x=\"139\" y=\"252.6123\">doc</text></g></a><!--MD5=[270fce915f116d4de14055a7c1d9a0f3]\n",
       "class E5--><a href=\"psysml:bd86279f-f154-4582-9450-407e2bfe4d2b\" target=\"_top\" title=\"psysml:bd86279f-f154-4582-9450-407e2bfe4d2b\" xlink:actuate=\"onRequest\" xlink:href=\"psysml:bd86279f-f154-4582-9450-407e2bfe4d2b\" xlink:show=\"new\" xlink:title=\"psysml:bd86279f-f154-4582-9450-407e2bfe4d2b\" xlink:type=\"simple\"><g id=\"elem_E5\"><rect fill=\"#FFFFFF\" height=\"75.0813\" id=\"E5\" style=\"stroke:#181818;stroke-width:0.5;\" width=\"232\" x=\"307\" y=\"200\"/><text fill=\"#000000\" font-family=\"sans-serif\" font-size=\"12\" font-style=\"italic\" lengthAdjust=\"spacing\" textLength=\"119\" x=\"363.5\" y=\"216.1387\">«requirement  def»</text><text fill=\"#000000\" font-family=\"sans-serif\" font-size=\"14\" lengthAdjust=\"spacing\" textLength=\"208\" x=\"319\" y=\"231.9639\">&lt;SCS002&gt; Detect Air Targets</text><line style=\"stroke:#181818;stroke-width:0.5;\" x1=\"308\" x2=\"538\" y1=\"240.2656\" y2=\"240.2656\"/><text fill=\"#000000\" font-family=\"sans-serif\" font-size=\"14\" lengthAdjust=\"spacing\" textLength=\"220\" x=\"313\" y=\"267.7795\">The SCS shall detect air targets.</text><text fill=\"#000000\" font-family=\"sans-serif\" font-size=\"14\" font-style=\"italic\" lengthAdjust=\"spacing\" textLength=\"26\" x=\"410\" y=\"252.6123\">doc</text></g></a><!--MD5=[60a26617385b1d2d0262a64233df1f8d]\n",
       "class E6--><a href=\"psysml:ca0f351d-bc19-43f0-acc7-6169bbe5e9b5\" target=\"_top\" title=\"psysml:ca0f351d-bc19-43f0-acc7-6169bbe5e9b5\" xlink:actuate=\"onRequest\" xlink:href=\"psysml:ca0f351d-bc19-43f0-acc7-6169bbe5e9b5\" xlink:show=\"new\" xlink:title=\"psysml:ca0f351d-bc19-43f0-acc7-6169bbe5e9b5\" xlink:type=\"simple\"><g id=\"elem_E6\"><rect fill=\"#FFFFFF\" height=\"91.3781\" id=\"E6\" style=\"stroke:#181818;stroke-width:0.5;\" width=\"281\" x=\"574.5\" y=\"192\"/><text fill=\"#000000\" font-family=\"sans-serif\" font-size=\"12\" font-style=\"italic\" lengthAdjust=\"spacing\" textLength=\"119\" x=\"655.5\" y=\"208.1387\">«requirement  def»</text><text fill=\"#000000\" font-family=\"sans-serif\" font-size=\"14\" lengthAdjust=\"spacing\" textLength=\"183\" x=\"623.5\" y=\"223.9639\">&lt;SCS003&gt; SCS Availability</text><line style=\"stroke:#181818;stroke-width:0.5;\" x1=\"575.5\" x2=\"854.5\" y1=\"232.2656\" y2=\"232.2656\"/><text fill=\"#000000\" font-family=\"sans-serif\" font-size=\"14\" lengthAdjust=\"spacing\" textLength=\"265\" x=\"580.5\" y=\"259.7795\">The SCS shall maintain an availability of</text><text fill=\"#000000\" font-family=\"sans-serif\" font-size=\"14\" lengthAdjust=\"spacing\" textLength=\"230\" x=\"580.5\" y=\"276.0764\">99.999 during normal operations.</text><text fill=\"#000000\" font-family=\"sans-serif\" font-size=\"14\" font-style=\"italic\" lengthAdjust=\"spacing\" textLength=\"26\" x=\"702\" y=\"244.6123\">doc</text></g></a><!--MD5=[4672eba38e49728da53d11aeb285b987]\n",
       "reverse link E3 to E4--><g id=\"link_E3_E4\"><a href=\"psysml:11de75db-2039-4387-b44c-653befd00a26\" target=\"_top\" title=\"psysml:11de75db-2039-4387-b44c-653befd00a26\" xlink:actuate=\"onRequest\" xlink:href=\"psysml:11de75db-2039-4387-b44c-653befd00a26\" xlink:show=\"new\" xlink:title=\"psysml:11de75db-2039-4387-b44c-653befd00a26\" xlink:type=\"simple\"><path d=\"M328.87,139.26 C292.46,159.27 251.65,181.71 218.41,199.99 \" fill=\"none\" id=\"E3-backto-E4\" style=\"stroke:#181818;stroke-width:1.0;\"/><ellipse cx=\"335.0503\" cy=\"135.8553\" fill=\"#FFFFFF\" rx=\"8\" ry=\"8\" style=\"stroke:#181818;stroke-width:1.0;\"/><line style=\"stroke:#181818;stroke-width:1.0;\" x1=\"328.0405\" x2=\"342.06\" y1=\"139.7107\" y2=\"132\"/><line style=\"stroke:#181818;stroke-width:1.0;\" x1=\"331.1949\" x2=\"338.9056\" y1=\"128.8456\" y2=\"142.8651\"/></a></g><!--MD5=[191cde3d490a3f6d7bb551fe3ddca469]\n",
       "reverse link E3 to E5--><g id=\"link_E3_E5\"><a href=\"psysml:40e607ea-681f-4b1c-b9b2-f0bc8bbf02cb\" target=\"_top\" title=\"psysml:40e607ea-681f-4b1c-b9b2-f0bc8bbf02cb\" xlink:actuate=\"onRequest\" xlink:href=\"psysml:40e607ea-681f-4b1c-b9b2-f0bc8bbf02cb\" xlink:show=\"new\" xlink:title=\"psysml:40e607ea-681f-4b1c-b9b2-f0bc8bbf02cb\" xlink:type=\"simple\"><path d=\"M423,147.4 C423,165.14 423,184.04 423,199.84 \" fill=\"none\" id=\"E3-backto-E5\" style=\"stroke:#181818;stroke-width:1.0;\"/><ellipse cx=\"423\" cy=\"140.2\" fill=\"#FFFFFF\" rx=\"8\" ry=\"8\" style=\"stroke:#181818;stroke-width:1.0;\"/><line style=\"stroke:#181818;stroke-width:1.0;\" x1=\"423\" x2=\"423\" y1=\"148.2\" y2=\"132.2\"/><line style=\"stroke:#181818;stroke-width:1.0;\" x1=\"415\" x2=\"431\" y1=\"140.2\" y2=\"140.2\"/></a></g><!--MD5=[1026b4b93417a13aa8999a858998add2]\n",
       "reverse link E3 to E6--><g id=\"link_E3_E6\"><a href=\"psysml:13d7eaf4-adfe-43d6-958a-0800847f8014\" target=\"_top\" title=\"psysml:13d7eaf4-adfe-43d6-958a-0800847f8014\" xlink:actuate=\"onRequest\" xlink:href=\"psysml:13d7eaf4-adfe-43d6-958a-0800847f8014\" xlink:show=\"new\" xlink:title=\"psysml:13d7eaf4-adfe-43d6-958a-0800847f8014\" xlink:type=\"simple\"><path d=\"M523.95,139.01 C557.73,156.25 595.08,175.31 627.73,191.97 \" fill=\"none\" id=\"E3-backto-E6\" style=\"stroke:#181818;stroke-width:1.0;\"/><ellipse cx=\"517.3378\" cy=\"135.6324\" fill=\"#FFFFFF\" rx=\"8\" ry=\"8\" style=\"stroke:#181818;stroke-width:1.0;\"/><line style=\"stroke:#181818;stroke-width:1.0;\" x1=\"524.4656\" x2=\"510.21\" y1=\"139.2649\" y2=\"132\"/><line style=\"stroke:#181818;stroke-width:1.0;\" x1=\"513.7054\" x2=\"520.9702\" y1=\"142.7602\" y2=\"128.5046\"/></a></g><!--MD5=[b3bb7f4a128fb430c47d0d0c5b40ecbb]\n",
       "@startuml\r\n",
       "skin sysmlbw\r\n",
       "skinparam monochrome true\r\n",
       "skinparam wrapWidth 300\r\n",
       "hide circle\r\n",
       "\r\n",
       "package \"SCS_SSS\" as E1  [[psysml:96f7de2f-12aa-4dfc-a5ed-fabbfe31e52f ]]  {\r\n",
       "comp def \"SCS\" as E2  <<(T,blue) part  def>> [[psysml:7a35ae37-430b-4f6c-84f2-fdbbe05e16f8 ]] {\r\n",
       "}\r\n",
       "comp usage \"SCS SSS  \" as E3  <<(T,blue) requirement>> [[psysml:2611f755-c3fe-4c89-8662-d944aeda0c36 ]] {\r\n",
       "##//doc//##\r\n",
       "System Specification (SSS) for the Surface Combat System (SCS)\r\n",
       "}\r\n",
       "comp def \"~<SCS001> Engage Air Targets\" as E4  <<(T,blue) requirement  def>> [[psysml:b9bd654e-4284-41b1-a8c0-8dbc0504d31a ]] {\r\n",
       "##//doc//##\r\n",
       "The SCS shall engage air targets.\r\n",
       "}\r\n",
       "comp def \"~<SCS002> Detect Air Targets\" as E5  <<(T,blue) requirement  def>> [[psysml:bd86279f-f154-4582-9450-407e2bfe4d2b ]] {\r\n",
       "##//doc//##\r\n",
       "The SCS shall detect air targets.\r\n",
       "}\r\n",
       "comp def \"~<SCS003> SCS Availability\" as E6  <<(T,blue) requirement  def>> [[psysml:ca0f351d-bc19-43f0-acc7-6169bbe5e9b5 ]] {\r\n",
       "##//doc//##\r\n",
       "The SCS shall maintain an availability of 99.999 during normal operations.\r\n",
       "}\r\n",
       "}\r\n",
       "E3 +- - E4 [[psysml:11de75db-2039-4387-b44c-653befd00a26 ]] \r\n",
       "E3 +- - E5 [[psysml:40e607ea-681f-4b1c-b9b2-f0bc8bbf02cb ]] \r\n",
       "E3 +- - E6 [[psysml:13d7eaf4-adfe-43d6-958a-0800847f8014 ]] \r\n",
       "@enduml\r\n",
       "\n",
       "PlantUML version 1.2022.7(Mon Aug 22 17:01:30 UTC 2022)\n",
       "(EPL source distribution)\n",
       "Java Runtime: OpenJDK Runtime Environment\n",
       "JVM: OpenJDK 64-Bit Server VM\n",
       "Default Encoding: UTF-8\n",
       "Language: en\n",
       "Country: null\n",
       "--></g></svg>"
      ]
     },
     "execution_count": 10,
     "metadata": {},
     "output_type": "execute_result"
    }
   ],
   "source": [
    "%viz --view=Tree SCS_SSS\n",
    "// %viz USS_Dahlgren_TLR"
   ]
  },
  {
   "cell_type": "markdown",
   "id": "3c4cfe9d",
   "metadata": {},
   "source": [
    "**Stakeholder Concerns**  \n",
    "\n",
    "_OPNAVINST 3500.38B Universal Navy Task List (UNTL)_  \n",
    "_OPNAV ROC/POE Instructions_  \n",
    "  \n",
    "\"As a **role**, I can **action with the system** so that **external benefit**\"  \n",
    "  \n",
    "Required Operational Capabilities (ROC) were used to define user specific “action with the system.” ROCs provide a summary of capabilities expected on a ship class enabled through a combat system. Navy Tactical Actions (NTA) we’re used to define “external benefit.” NTAs are used to define Mission Essential Task (METLs) that must be accomplished by combined Naval Forces to win a campaign defined by a Joint Warfighting Commander.  \n",
    "  \n",
    "A review of the requirements was conducted with stakeholder and several “concerns” were identified. Here are a few to include in the model:  \n",
    " \n",
    "* As a Surface Warfare Coordinator (SUWC), I can use my CMS to order the GWS/operator to engage a target with major caliber gunfire (ROC SUW 1.4) so that I can Attack Surface Targets (NTA 3.2.1.1).\n",
    "* As a Anti-Air Warfare Coordinator (AAWC), I can use my CMS to order the Radar/operator to detect, track, and identify air target with radar and/or cooperative sensors (ROC AW 6.5) so that I can Maintain and Display Tactical Picture (NTA 5.1.3.1).  \n",
    "  \n",
    "As a result the following system level requirements were added before freezing the technical baseline:  \n",
    "  \n",
    "TBS  \n",
    "\n",
    "Please update SCS model to reflect the new requirements and stakeholder concerns.  "
   ]
  },
  {
   "cell_type": "code",
   "execution_count": 5,
   "id": "ba768c8d",
   "metadata": {},
   "outputs": [
    {
     "data": {
      "text/plain": [
       "Package Stakeholder_Concerns (7e9f5116-b3f8-45cb-83eb-be7263bd4c68)\n"
      ]
     },
     "execution_count": 5,
     "metadata": {},
     "output_type": "execute_result"
    }
   ],
   "source": [
    "package Stakeholder_Concerns{\n",
    "    part def 'Warfare Area Coordinator';\n",
    "\n",
    "    concern 'order surface target attack' {\n",
    "        doc /* As a Surface Warfare Coordinator (SUWC), I can use my CMS to order the GWS/operator to\n",
    "        * engage a targets with major caliber gunfire (ROC SUW 1.4) so that I can\n",
    "        * Attack Surface Targets (NTA 3.2.1.1). */\n",
    "        stakeholder suwc : 'Warfare Area Coordinator';\n",
    "    }\n",
    "    \n",
    "    concern 'order air identification' {\n",
    "        doc /* As a Anti-Air Warfare Coordinator (AAWC), I can use my CMS to order the Radar/operator to\n",
    "        * detect, track, and identify air targets with radar and/or cooperative\n",
    "        * sensors (ROC AW 6.5) so that I can Maintain and Display Tactical Picture (NTA 5.1.3.1). */\n",
    "        stakeholder aawc: 'Warfare Area Coordinator';\n",
    "    }\n",
    "}"
   ]
  },
  {
   "cell_type": "code",
   "execution_count": 6,
   "id": "7d548f27",
   "metadata": {},
   "outputs": [
    {
     "data": {
      "image/svg+xml": [
       "<?xml version=\"1.0\" encoding=\"UTF-8\" standalone=\"no\"?><svg xmlns=\"http://www.w3.org/2000/svg\" xmlns:xlink=\"http://www.w3.org/1999/xlink\" contentStyleType=\"text/css\" height=\"480px\" preserveAspectRatio=\"none\" style=\"width:713px;height:480px;background:#FFFFFF;\" version=\"1.1\" viewBox=\"0 0 713 480\" width=\"713px\" zoomAndPan=\"magnify\"><defs/><g><!--MD5=[fbc87193dbaf4d95561dea2c320d4a47]\n",
       "cluster E1--><g id=\"cluster_E1\"><a href=\"psysml:7e9f5116-b3f8-45cb-83eb-be7263bd4c68\" target=\"_top\" title=\"psysml:7e9f5116-b3f8-45cb-83eb-be7263bd4c68\" xlink:actuate=\"onRequest\" xlink:href=\"psysml:7e9f5116-b3f8-45cb-83eb-be7263bd4c68\" xlink:show=\"new\" xlink:title=\"psysml:7e9f5116-b3f8-45cb-83eb-be7263bd4c68\" xlink:type=\"simple\"><polygon fill=\"none\" points=\"16,6,179,6,186,28.2969,696,28.2969,696,473,16,473,16,6\" style=\"stroke:#000000;stroke-width:1.5;\"/><line style=\"stroke:#000000;stroke-width:1.5;\" x1=\"16\" x2=\"186\" y1=\"28.2969\" y2=\"28.2969\"/><text fill=\"#000000\" font-family=\"sans-serif\" font-size=\"14\" font-weight=\"bold\" lengthAdjust=\"spacing\" textLength=\"157\" x=\"20\" y=\"20.9951\">Stakeholder_Concerns</text></a></g><!--MD5=[b4997ac47864f28c2f74865a473b2911]\n",
       "class E2--><a href=\"psysml:77ec172d-4f20-4511-9d8d-f2d4b8a6056e\" target=\"_top\" title=\"psysml:77ec172d-4f20-4511-9d8d-f2d4b8a6056e\" xlink:actuate=\"onRequest\" xlink:href=\"psysml:77ec172d-4f20-4511-9d8d-f2d4b8a6056e\" xlink:show=\"new\" xlink:title=\"psysml:77ec172d-4f20-4511-9d8d-f2d4b8a6056e\" xlink:type=\"simple\"><g id=\"elem_E2\"><rect fill=\"#FFFFFF\" height=\"48.2656\" id=\"E2\" style=\"stroke:#181818;stroke-width:0.5;\" width=\"178\" x=\"265\" y=\"409\"/><text fill=\"#000000\" font-family=\"sans-serif\" font-size=\"12\" font-style=\"italic\" lengthAdjust=\"spacing\" textLength=\"68\" x=\"320\" y=\"425.1387\">«part  def»</text><text fill=\"#000000\" font-family=\"sans-serif\" font-size=\"14\" lengthAdjust=\"spacing\" textLength=\"172\" x=\"268\" y=\"440.9639\">Warfare Area Coordinator</text><line style=\"stroke:#181818;stroke-width:0.5;\" x1=\"266\" x2=\"442\" y1=\"449.2656\" y2=\"449.2656\"/></g></a><!--MD5=[09b614a08d8cba4a07c9adeb5e0fee81]\n",
       "class E3--><a href=\"psysml:418e58b1-bed0-4d25-a2ce-a5814687bf31\" target=\"_top\" title=\"psysml:418e58b1-bed0-4d25-a2ce-a5814687bf31\" xlink:actuate=\"onRequest\" xlink:href=\"psysml:418e58b1-bed0-4d25-a2ce-a5814687bf31\" xlink:show=\"new\" xlink:title=\"psysml:418e58b1-bed0-4d25-a2ce-a5814687bf31\" xlink:type=\"simple\"><g id=\"elem_E3\"><rect fill=\"#FFFFFF\" height=\"156.5656\" id=\"E3\" rx=\"10\" ry=\"10\" style=\"stroke:#181818;stroke-width:0.5;\" width=\"309\" x=\"371.5\" y=\"57\"/><text fill=\"#000000\" font-family=\"sans-serif\" font-size=\"12\" font-style=\"italic\" lengthAdjust=\"spacing\" textLength=\"65\" x=\"493.5\" y=\"73.1387\">«concern»</text><text fill=\"#000000\" font-family=\"sans-serif\" font-size=\"14\" lengthAdjust=\"spacing\" textLength=\"183\" x=\"430.5\" y=\"88.9639\">order surface target attack</text><line style=\"stroke:#181818;stroke-width:0.5;\" x1=\"372.5\" x2=\"679.5\" y1=\"97.2656\" y2=\"97.2656\"/><text fill=\"#000000\" font-family=\"sans-serif\" font-size=\"14\" lengthAdjust=\"spacing\" textLength=\"293\" x=\"377.5\" y=\"124.7795\">As a Surface Warfare Coordinator (SUWC), I</text><text fill=\"#000000\" font-family=\"sans-serif\" font-size=\"14\" lengthAdjust=\"spacing\" textLength=\"200\" x=\"377.5\" y=\"141.0764\">can use my CMS to order the</text><text fill=\"#000000\" font-family=\"sans-serif\" font-size=\"14\" lengthAdjust=\"spacing\" textLength=\"115\" x=\"377.5\" y=\"157.3732\">GWS/operator to</text><text fill=\"#000000\" font-family=\"sans-serif\" font-size=\"14\" lengthAdjust=\"spacing\" textLength=\"293\" x=\"377.5\" y=\"173.6701\">engage a targets with major caliber gunfire</text><text fill=\"#000000\" font-family=\"sans-serif\" font-size=\"14\" lengthAdjust=\"spacing\" textLength=\"191\" x=\"377.5\" y=\"189.967\">(ROC SUW 1.4) so that I can</text><text fill=\"#000000\" font-family=\"sans-serif\" font-size=\"14\" lengthAdjust=\"spacing\" textLength=\"254\" x=\"377.5\" y=\"206.2639\">Attack Surface Targets (NTA 3.2.1.1).</text><text fill=\"#000000\" font-family=\"sans-serif\" font-size=\"14\" font-style=\"italic\" lengthAdjust=\"spacing\" textLength=\"26\" x=\"513\" y=\"109.6123\">doc</text></g></a><!--MD5=[ebbe1d658d1005bcc118a6aa81145e00]\n",
       "class E4--><a href=\"psysml:eed081c6-3416-4d9d-81ca-d8026931fb45\" target=\"_top\" title=\"psysml:eed081c6-3416-4d9d-81ca-d8026931fb45\" xlink:actuate=\"onRequest\" xlink:href=\"psysml:eed081c6-3416-4d9d-81ca-d8026931fb45\" xlink:show=\"new\" xlink:title=\"psysml:eed081c6-3416-4d9d-81ca-d8026931fb45\" xlink:type=\"simple\"><g id=\"elem_E4\"><rect fill=\"#FFFFFF\" height=\"59.4688\" id=\"E4\" rx=\"10\" ry=\"10\" style=\"stroke:#181818;stroke-width:0.5;\" width=\"257\" x=\"384.5\" y=\"290\"/><text fill=\"#000000\" font-family=\"sans-serif\" font-size=\"12\" font-style=\"italic\" lengthAdjust=\"spacing\" textLength=\"40\" x=\"493\" y=\"306.1387\">«part»</text><path d=\"M402.25,308.9688 C400.975,308.9688 399.875,309.8438 399.2,311.1688 C400.325,312.5188 401,314.3688 401,316.4938 C401,317.2188 400.925,317.8688 400.775,318.5188 C401.25,318.7938 401.725,318.9938 402.25,318.9938 C404.325,318.9938 406,316.7438 406,313.9938 C406,311.2438 404.325,308.9938 402.25,308.9938 M394.75,311.4688 C392.675,311.4688 391,313.7188 391,316.4688 C391,319.2188 392.675,321.4688 394.75,321.4688 C396.825,321.4688 398.5,319.2188 398.5,316.4688 C398.5,313.7188 396.825,311.4688 394.75,311.4688 M406.625,319.3688 C405.55,320.6438 404.075,321.4188 402.4,321.4688 C403.075,322.4188 403.5,323.5688 403.5,324.8188 L403.5,326.4688 L408.5,326.4688 L408.5,322.3188 C408.5,321.0188 407.725,319.8938 406.625,319.3438 M390.375,321.8688 C389.275,322.4188 388.5,323.5438 388.5,324.8438 L388.5,328.9938 L401,328.9938 L401,324.8438 C401,323.5438 400.225,322.4188 399.125,321.8688 C398,323.1938 396.475,323.9688 394.75,323.9688 C393.025,323.9688 391.5,323.1688 390.375,321.8688 \" fill=\"#000000\" style=\"stroke:;stroke-width:0.0;stroke-dasharray:;\"/><text fill=\"#000000\" font-family=\"sans-serif\" font-size=\"14\" lengthAdjust=\"spacing\" textLength=\"217\" x=\"413.5\" y=\"333.167\">suwc: Warfare Area Coordinator</text><line style=\"stroke:#181818;stroke-width:0.5;\" x1=\"385.5\" x2=\"640.5\" y1=\"341.4688\" y2=\"341.4688\"/></g></a><!--MD5=[270fce915f116d4de14055a7c1d9a0f3]\n",
       "class E5--><a href=\"psysml:30fb76bc-3e9d-4368-b461-ed4de36bcce8\" target=\"_top\" title=\"psysml:30fb76bc-3e9d-4368-b461-ed4de36bcce8\" xlink:actuate=\"onRequest\" xlink:href=\"psysml:30fb76bc-3e9d-4368-b461-ed4de36bcce8\" xlink:show=\"new\" xlink:title=\"psysml:30fb76bc-3e9d-4368-b461-ed4de36bcce8\" xlink:type=\"simple\"><g id=\"elem_E5\"><rect fill=\"#FFFFFF\" height=\"189.1594\" id=\"E5\" rx=\"10\" ry=\"10\" style=\"stroke:#181818;stroke-width:0.5;\" width=\"304\" x=\"32\" y=\"41\"/><text fill=\"#000000\" font-family=\"sans-serif\" font-size=\"12\" font-style=\"italic\" lengthAdjust=\"spacing\" textLength=\"65\" x=\"151.5\" y=\"57.1387\">«concern»</text><text fill=\"#000000\" font-family=\"sans-serif\" font-size=\"14\" lengthAdjust=\"spacing\" textLength=\"148\" x=\"106\" y=\"72.9639\">order air identification</text><line style=\"stroke:#181818;stroke-width:0.5;\" x1=\"33\" x2=\"335\" y1=\"81.2656\" y2=\"81.2656\"/><text fill=\"#000000\" font-family=\"sans-serif\" font-size=\"14\" lengthAdjust=\"spacing\" textLength=\"288\" x=\"38\" y=\"108.7795\">As a Anti-Air Warfare Coordinator (AAWC), I</text><text fill=\"#000000\" font-family=\"sans-serif\" font-size=\"14\" lengthAdjust=\"spacing\" textLength=\"200\" x=\"38\" y=\"125.0764\">can use my CMS to order the</text><text fill=\"#000000\" font-family=\"sans-serif\" font-size=\"14\" lengthAdjust=\"spacing\" textLength=\"122\" x=\"38\" y=\"141.3732\">Radar/operator to</text><text fill=\"#000000\" font-family=\"sans-serif\" font-size=\"14\" lengthAdjust=\"spacing\" textLength=\"279\" x=\"38\" y=\"157.6701\">detect, track, and identify air targets with</text><text fill=\"#000000\" font-family=\"sans-serif\" font-size=\"14\" lengthAdjust=\"spacing\" textLength=\"169\" x=\"38\" y=\"173.967\">radar and/or cooperative</text><text fill=\"#000000\" font-family=\"sans-serif\" font-size=\"14\" lengthAdjust=\"spacing\" textLength=\"241\" x=\"38\" y=\"190.2639\">sensors (ROC AW 6.5) so that I can</text><text fill=\"#000000\" font-family=\"sans-serif\" font-size=\"14\" lengthAdjust=\"spacing\" textLength=\"285\" x=\"38\" y=\"206.5607\">Maintain and Display Tactical Picture (NTA</text><text fill=\"#000000\" font-family=\"sans-serif\" font-size=\"14\" lengthAdjust=\"spacing\" textLength=\"57\" x=\"38\" y=\"222.8576\">5.1.3.1).</text><text fill=\"#000000\" font-family=\"sans-serif\" font-size=\"14\" font-style=\"italic\" lengthAdjust=\"spacing\" textLength=\"26\" x=\"171\" y=\"93.6123\">doc</text></g></a><!--MD5=[60a26617385b1d2d0262a64233df1f8d]\n",
       "class E6--><a href=\"psysml:0f98b58a-2f02-4039-a6b3-027b3021b71a\" target=\"_top\" title=\"psysml:0f98b58a-2f02-4039-a6b3-027b3021b71a\" xlink:actuate=\"onRequest\" xlink:href=\"psysml:0f98b58a-2f02-4039-a6b3-027b3021b71a\" xlink:show=\"new\" xlink:title=\"psysml:0f98b58a-2f02-4039-a6b3-027b3021b71a\" xlink:type=\"simple\"><g id=\"elem_E6\"><rect fill=\"#FFFFFF\" height=\"59.4688\" id=\"E6\" rx=\"10\" ry=\"10\" style=\"stroke:#181818;stroke-width:0.5;\" width=\"256\" x=\"68\" y=\"290\"/><text fill=\"#000000\" font-family=\"sans-serif\" font-size=\"12\" font-style=\"italic\" lengthAdjust=\"spacing\" textLength=\"40\" x=\"176\" y=\"306.1387\">«part»</text><path d=\"M85.75,308.9688 C84.475,308.9688 83.375,309.8438 82.7,311.1688 C83.825,312.5188 84.5,314.3688 84.5,316.4938 C84.5,317.2188 84.425,317.8688 84.275,318.5188 C84.75,318.7938 85.225,318.9938 85.75,318.9938 C87.825,318.9938 89.5,316.7438 89.5,313.9938 C89.5,311.2438 87.825,308.9938 85.75,308.9938 M78.25,311.4688 C76.175,311.4688 74.5,313.7188 74.5,316.4688 C74.5,319.2188 76.175,321.4688 78.25,321.4688 C80.325,321.4688 82,319.2188 82,316.4688 C82,313.7188 80.325,311.4688 78.25,311.4688 M90.125,319.3688 C89.05,320.6438 87.575,321.4188 85.9,321.4688 C86.575,322.4188 87,323.5688 87,324.8188 L87,326.4688 L92,326.4688 L92,322.3188 C92,321.0188 91.225,319.8938 90.125,319.3438 M73.875,321.8688 C72.775,322.4188 72,323.5438 72,324.8438 L72,328.9938 L84.5,328.9938 L84.5,324.8438 C84.5,323.5438 83.725,322.4188 82.625,321.8688 C81.5,323.1938 79.975,323.9688 78.25,323.9688 C76.525,323.9688 75,323.1688 73.875,321.8688 \" fill=\"#000000\" style=\"stroke:;stroke-width:0.0;stroke-dasharray:;\"/><text fill=\"#000000\" font-family=\"sans-serif\" font-size=\"14\" lengthAdjust=\"spacing\" textLength=\"216\" x=\"97\" y=\"333.167\">aawc: Warfare Area Coordinator</text><line style=\"stroke:#181818;stroke-width:0.5;\" x1=\"69\" x2=\"323\" y1=\"341.4688\" y2=\"341.4688\"/></g></a><!--MD5=[af87c684e3b0d8be13c1a698a818ef1e]\n",
       "link E3 to E4--><g id=\"link_E3_E4\"><a href=\"psysml:146d6a30-b0bf-4f7a-a996-897153bd6ac2\" target=\"_top\" title=\"psysml:146d6a30-b0bf-4f7a-a996-897153bd6ac2\" xlink:actuate=\"onRequest\" xlink:href=\"psysml:146d6a30-b0bf-4f7a-a996-897153bd6ac2\" xlink:show=\"new\" xlink:title=\"psysml:146d6a30-b0bf-4f7a-a996-897153bd6ac2\" xlink:type=\"simple\"><path d=\"M520.45,214.21 C518.53,241.07 516.5,269.51 515.04,289.89 \" fill=\"none\" id=\"E3-E4\" style=\"stroke:#181818;stroke-width:1.0;\"/><text fill=\"#000000\" font-family=\"sans-serif\" font-size=\"13\" lengthAdjust=\"spacing\" textLength=\"8\" x=\"506.6113\" y=\"278.8023\">1</text></a></g><!--MD5=[185131fc0dcab0a4505a2ebe144e961b]\n",
       "link E4 to E2--><g id=\"link_E4_E2\"><a href=\"psysml:0c65552a-4d9a-4147-8694-ef582c5edb88\" target=\"_top\" title=\"psysml:0c65552a-4d9a-4147-8694-ef582c5edb88\" xlink:actuate=\"onRequest\" xlink:href=\"psysml:0c65552a-4d9a-4147-8694-ef582c5edb88\" xlink:show=\"new\" xlink:title=\"psysml:0c65552a-4d9a-4147-8694-ef582c5edb88\" xlink:type=\"simple\"><path d=\"M472.05,349.21 C451.04,363.95 425.29,382.01 403.2,397.5 \" fill=\"none\" id=\"E4-to-E2\" style=\"stroke:#181818;stroke-width:1.0;\"/><polygon fill=\"#FFFFFF\" points=\"386.8,409,398.3502,392.3689,406.3793,403.8377,386.8,409\" style=\"stroke:#181818;stroke-width:1.0;\"/><ellipse cx=\"404.1666\" cy=\"390.7383\" fill=\"#181818\" rx=\"2\" ry=\"2\" style=\"stroke:#181818;stroke-width:1.0;\"/><ellipse cx=\"409.9018\" cy=\"398.9303\" fill=\"#181818\" rx=\"2\" ry=\"2\" style=\"stroke:#181818;stroke-width:1.0;\"/></a></g><!--MD5=[9120cf2e5df3bff93db8f754bbbc09b4]\n",
       "link E5 to E6--><g id=\"link_E5_E6\"><a href=\"psysml:bda1d50c-5085-4510-a73d-31f2353eb099\" target=\"_top\" title=\"psysml:bda1d50c-5085-4510-a73d-31f2353eb099\" xlink:actuate=\"onRequest\" xlink:href=\"psysml:bda1d50c-5085-4510-a73d-31f2353eb099\" xlink:show=\"new\" xlink:title=\"psysml:bda1d50c-5085-4510-a73d-31f2353eb099\" xlink:type=\"simple\"><path d=\"M190.18,230.17 C191.61,251.94 193.03,273.51 194.11,289.89 \" fill=\"none\" id=\"E5-E6\" style=\"stroke:#181818;stroke-width:1.0;\"/><text fill=\"#000000\" font-family=\"sans-serif\" font-size=\"13\" lengthAdjust=\"spacing\" textLength=\"8\" x=\"184.8216\" y=\"278.8023\">1</text></a></g><!--MD5=[2351f337d6de0f557b50152ba70847b5]\n",
       "link E6 to E2--><g id=\"link_E6_E2\"><a href=\"psysml:d37e9c41-f137-4e40-9c61-87231e3eb8ce\" target=\"_top\" title=\"psysml:d37e9c41-f137-4e40-9c61-87231e3eb8ce\" xlink:actuate=\"onRequest\" xlink:href=\"psysml:d37e9c41-f137-4e40-9c61-87231e3eb8ce\" xlink:show=\"new\" xlink:title=\"psysml:d37e9c41-f137-4e40-9c61-87231e3eb8ce\" xlink:type=\"simple\"><path d=\"M236.69,349.21 C257.47,363.88 282.91,381.83 304.79,397.27 \" fill=\"none\" id=\"E6-to-E2\" style=\"stroke:#181818;stroke-width:1.0;\"/><polygon fill=\"#FFFFFF\" points=\"321.41,409,301.8492,403.7678,309.9192,392.3278,321.41,409\" style=\"stroke:#181818;stroke-width:1.0;\"/><ellipse cx=\"298.3443\" cy=\"398.8479\" fill=\"#181818\" rx=\"2\" ry=\"2\" style=\"stroke:#181818;stroke-width:1.0;\"/><ellipse cx=\"304.1086\" cy=\"390.6764\" fill=\"#181818\" rx=\"2\" ry=\"2\" style=\"stroke:#181818;stroke-width:1.0;\"/></a></g><!--MD5=[ab1ad0645216fd203dd70846501135a8]\n",
       "@startuml\r\n",
       "skin sysmlbw\r\n",
       "skinparam monochrome true\r\n",
       "skinparam wrapWidth 300\r\n",
       "hide circle\r\n",
       "\r\n",
       "package \"Stakeholder_Concerns\" as E1  [[psysml:7e9f5116-b3f8-45cb-83eb-be7263bd4c68 ]]  {\r\n",
       "comp def \"Warfare Area Coordinator\" as E2  <<(T,blue) part  def>> [[psysml:77ec172d-4f20-4511-9d8d-f2d4b8a6056e ]] {\r\n",
       "}\r\n",
       "comp usage \"order surface target attack  \" as E3  <<(T,blue) concern>> [[psysml:418e58b1-bed0-4d25-a2ce-a5814687bf31 ]] {\r\n",
       "##//doc//##\r\n",
       "As a Surface Warfare Coordinator (SUWC), I can use my CMS to order the GWS<U+002F>operator to\\nengage a targets with major caliber gunfire (ROC SUW 1.4) so that I can\\nAttack Surface Targets (NTA 3.2.1.1).\r\n",
       "}\r\n",
       "comp usage \"<size:30><&people></size> suwc: Warfare Area Coordinator  \" as E4  <<(T,blue) part>> [[psysml:eed081c6-3416-4d9d-81ca-d8026931fb45 ]] {\r\n",
       "}\r\n",
       "comp usage \"order air identification  \" as E5  <<(T,blue) concern>> [[psysml:30fb76bc-3e9d-4368-b461-ed4de36bcce8 ]] {\r\n",
       "##//doc//##\r\n",
       "As a Anti<U+002D>Air Warfare Coordinator (AAWC), I can use my CMS to order the Radar<U+002F>operator to\\ndetect, track, and identify air targets with radar and<U+002F>or cooperative\\nsensors (ROC AW 6.5) so that I can Maintain and Display Tactical Picture (NTA 5.1.3.1).\r\n",
       "}\r\n",
       "comp usage \"<size:30><&people></size> aawc: Warfare Area Coordinator  \" as E6  <<(T,blue) part>> [[psysml:0f98b58a-2f02-4039-a6b3-027b3021b71a ]] {\r\n",
       "}\r\n",
       "}\r\n",
       "E3 - - \"1\"E4 [[psysml:146d6a30-b0bf-4f7a-a996-897153bd6ac2 ]] \r\n",
       "E4 - -:|> E2 [[psysml:0c65552a-4d9a-4147-8694-ef582c5edb88 ]] \r\n",
       "E5 - - \"1\"E6 [[psysml:bda1d50c-5085-4510-a73d-31f2353eb099 ]] \r\n",
       "E6 - -:|> E2 [[psysml:d37e9c41-f137-4e40-9c61-87231e3eb8ce ]] \r\n",
       "@enduml\r\n",
       "\n",
       "PlantUML version 1.2022.7(Mon Aug 22 17:01:30 UTC 2022)\n",
       "(EPL source distribution)\n",
       "Java Runtime: OpenJDK Runtime Environment\n",
       "JVM: OpenJDK 64-Bit Server VM\n",
       "Default Encoding: UTF-8\n",
       "Language: en\n",
       "Country: null\n",
       "--></g></svg>"
      ]
     },
     "execution_count": 6,
     "metadata": {},
     "output_type": "execute_result"
    }
   ],
   "source": [
    "%viz Stakeholder_Concerns"
   ]
  },
  {
   "cell_type": "markdown",
   "id": "a1ce94e9",
   "metadata": {},
   "source": [
    "**System Definition**  \n",
    "  \n",
    "It has been determined based upon the requirements and stakeholder concerns that the system will be composed of the following elements:  \n",
    "  \n",
    "* Combat Management System (CMS)\n",
    "* Radar (RDR)\n",
    "* External Communications (EXCOMM)\n",
    "* Over-the-Horizon Weapon System (OTHWS)\n",
    "* Display (DIS)\n",
    "* Gun Weapon System (GWS)"
   ]
  },
  {
   "cell_type": "code",
   "execution_count": 11,
   "id": "4f7ea0bf",
   "metadata": {},
   "outputs": [
    {
     "data": {
      "text/plain": [
       "Package USS_Dahlgren_Architecture (5edfa1e6-4e5a-4f24-b98b-35e02b94b678)\n"
      ]
     },
     "execution_count": 11,
     "metadata": {},
     "output_type": "execute_result"
    }
   ],
   "source": [
    "package USS_Dahlgren_Architecture{\n",
    "    import ScalarValues::*;\n",
    "    \n",
    "    enum def CS_Mode {\n",
    "        enum standby;\n",
    "        enum tactical;\n",
    "        enum training;\n",
    "        enum test;\n",
    "    }\n",
    "    \n",
    "    part USS_Dahlgren{\n",
    "        part 'Surface Combat System (SCS)'{\n",
    "            part CMS{\n",
    "                doc 'CMS'\n",
    "                    /* This is the Combat Management System. */\n",
    "                attribute operationalMode : CS_Mode;\n",
    "                part DIS [5]{\n",
    "                    doc 'DIS'\n",
    "                        /* This is the Display Subsytem. */\n",
    "                }\n",
    "            }\n",
    "            \n",
    "            part RDR{\n",
    "                doc 'RDR'\n",
    "                    /* This is the Radar Subsystem. */\n",
    "            }\n",
    "            part EXCOMM{\n",
    "                doc 'EXCOMM'\n",
    "                    /* This is the External Communications Subsystem. */\n",
    "            }\n",
    "            \n",
    "            part OTHWS [2]{\n",
    "                attribute num_missiles : ScalarValues::Real;\n",
    "                doc 'OTHWS'\n",
    "                    /* This is the Over The Horizon Weapon Subsystem. */\n",
    "            }\n",
    "            part GWS [2]{\n",
    "                doc 'GWS'\n",
    "                    /* This is the Gun Weapon System. */\n",
    "            }\n",
    "            \n",
    "        }\n",
    "    }\n",
    "}"
   ]
  },
  {
   "cell_type": "code",
   "execution_count": 12,
   "id": "de162bbb",
   "metadata": {},
   "outputs": [
    {
     "data": {
      "image/svg+xml": [
       "<?xml version=\"1.0\" encoding=\"UTF-8\" standalone=\"no\"?><svg xmlns=\"http://www.w3.org/2000/svg\" xmlns:xlink=\"http://www.w3.org/1999/xlink\" contentStyleType=\"text/css\" height=\"623px\" preserveAspectRatio=\"none\" style=\"width:1467px;height:623px;background:#FFFFFF;\" version=\"1.1\" viewBox=\"0 0 1467 623\" width=\"1467px\" zoomAndPan=\"magnify\"><defs/><g><!--MD5=[fbc87193dbaf4d95561dea2c320d4a47]\n",
       "cluster E1--><g id=\"cluster_E1\"><a href=\"psysml:5edfa1e6-4e5a-4f24-b98b-35e02b94b678\" target=\"_top\" title=\"psysml:5edfa1e6-4e5a-4f24-b98b-35e02b94b678\" xlink:actuate=\"onRequest\" xlink:href=\"psysml:5edfa1e6-4e5a-4f24-b98b-35e02b94b678\" xlink:show=\"new\" xlink:title=\"psysml:5edfa1e6-4e5a-4f24-b98b-35e02b94b678\" xlink:type=\"simple\"><polygon fill=\"none\" points=\"16,6,211,6,218,28.2969,1450,28.2969,1450,616,16,616,16,6\" style=\"stroke:#000000;stroke-width:1.5;\"/><line style=\"stroke:#000000;stroke-width:1.5;\" x1=\"16\" x2=\"218\" y1=\"28.2969\" y2=\"28.2969\"/><text fill=\"#000000\" font-family=\"sans-serif\" font-size=\"14\" font-weight=\"bold\" lengthAdjust=\"spacing\" textLength=\"189\" x=\"20\" y=\"20.9951\">USS_Dahlgren_Architecture</text></a></g><!--MD5=[b4997ac47864f28c2f74865a473b2911]\n",
       "class E2--><a href=\"psysml:dcf6357d-0e4d-442a-b2fc-2eca042255d5\" target=\"_top\" title=\"psysml:dcf6357d-0e4d-442a-b2fc-2eca042255d5\" xlink:actuate=\"onRequest\" xlink:href=\"psysml:dcf6357d-0e4d-442a-b2fc-2eca042255d5\" xlink:show=\"new\" xlink:title=\"psysml:dcf6357d-0e4d-442a-b2fc-2eca042255d5\" xlink:type=\"simple\"><g id=\"elem_E2\"><rect fill=\"#FFFFFF\" height=\"123.9719\" id=\"E2\" style=\"stroke:#181818;stroke-width:0.5;\" width=\"79\" x=\"1086.5\" y=\"41\"/><text fill=\"#000000\" font-family=\"sans-serif\" font-size=\"12\" font-style=\"italic\" lengthAdjust=\"spacing\" textLength=\"77\" x=\"1087.5\" y=\"57.1387\">«enum  def»</text><text fill=\"#000000\" font-family=\"sans-serif\" font-size=\"14\" font-style=\"italic\" lengthAdjust=\"spacing\" textLength=\"65\" x=\"1093.5\" y=\"72.9639\">CS_Mode</text><line style=\"stroke:#181818;stroke-width:0.5;\" x1=\"1087.5\" x2=\"1164.5\" y1=\"81.2656\" y2=\"81.2656\"/><text fill=\"#000000\" font-family=\"sans-serif\" font-size=\"14\" lengthAdjust=\"spacing\" textLength=\"55\" x=\"1092.5\" y=\"108.7795\">standby</text><text fill=\"#000000\" font-family=\"sans-serif\" font-size=\"14\" lengthAdjust=\"spacing\" textLength=\"48\" x=\"1092.5\" y=\"125.0764\">tactical</text><text fill=\"#000000\" font-family=\"sans-serif\" font-size=\"14\" lengthAdjust=\"spacing\" textLength=\"51\" x=\"1092.5\" y=\"141.3732\">training</text><text fill=\"#000000\" font-family=\"sans-serif\" font-size=\"14\" lengthAdjust=\"spacing\" textLength=\"27\" x=\"1092.5\" y=\"157.6701\">test</text><text fill=\"#000000\" font-family=\"sans-serif\" font-size=\"14\" font-style=\"italic\" lengthAdjust=\"spacing\" textLength=\"48\" x=\"1102\" y=\"93.6123\">enums</text></g></a><!--MD5=[09b614a08d8cba4a07c9adeb5e0fee81]\n",
       "class E3--><a href=\"psysml:95f89643-69c9-41f5-952c-078a62e1f0b7\" target=\"_top\" title=\"psysml:95f89643-69c9-41f5-952c-078a62e1f0b7\" xlink:actuate=\"onRequest\" xlink:href=\"psysml:95f89643-69c9-41f5-952c-078a62e1f0b7\" xlink:show=\"new\" xlink:title=\"psysml:95f89643-69c9-41f5-952c-078a62e1f0b7\" xlink:type=\"simple\"><g id=\"elem_E3\"><rect fill=\"#FFFFFF\" height=\"48.2656\" id=\"E3\" rx=\"10\" ry=\"10\" style=\"stroke:#181818;stroke-width:0.5;\" width=\"112\" x=\"671\" y=\"79\"/><text fill=\"#000000\" font-family=\"sans-serif\" font-size=\"12\" font-style=\"italic\" lengthAdjust=\"spacing\" textLength=\"40\" x=\"707\" y=\"95.1387\">«part»</text><text fill=\"#000000\" font-family=\"sans-serif\" font-size=\"14\" lengthAdjust=\"spacing\" textLength=\"98\" x=\"674\" y=\"110.9639\">USS_Dahlgren</text><line style=\"stroke:#181818;stroke-width:0.5;\" x1=\"672\" x2=\"782\" y1=\"119.2656\" y2=\"119.2656\"/></g></a><!--MD5=[ebbe1d658d1005bcc118a6aa81145e00]\n",
       "class E4--><a href=\"psysml:209cc531-e093-4947-8a49-092d870438ce\" target=\"_top\" title=\"psysml:209cc531-e093-4947-8a49-092d870438ce\" xlink:actuate=\"onRequest\" xlink:href=\"psysml:209cc531-e093-4947-8a49-092d870438ce\" xlink:show=\"new\" xlink:title=\"psysml:209cc531-e093-4947-8a49-092d870438ce\" xlink:type=\"simple\"><g id=\"elem_E4\"><rect fill=\"#FFFFFF\" height=\"48.2656\" id=\"E4\" rx=\"10\" ry=\"10\" style=\"stroke:#181818;stroke-width:0.5;\" width=\"221\" x=\"616.5\" y=\"225\"/><text fill=\"#000000\" font-family=\"sans-serif\" font-size=\"12\" font-style=\"italic\" lengthAdjust=\"spacing\" textLength=\"40\" x=\"707\" y=\"241.1387\">«part»</text><text fill=\"#000000\" font-family=\"sans-serif\" font-size=\"14\" lengthAdjust=\"spacing\" textLength=\"207\" x=\"619.5\" y=\"256.9639\">Surface Combat System (SCS)</text><line style=\"stroke:#181818;stroke-width:0.5;\" x1=\"617.5\" x2=\"836.5\" y1=\"265.2656\" y2=\"265.2656\"/></g></a><!--MD5=[270fce915f116d4de14055a7c1d9a0f3]\n",
       "class E5--><a href=\"psysml:f41e61cc-6798-4d33-9732-8d38e5de2049\" target=\"_top\" title=\"psysml:f41e61cc-6798-4d33-9732-8d38e5de2049\" xlink:actuate=\"onRequest\" xlink:href=\"psysml:f41e61cc-6798-4d33-9732-8d38e5de2049\" xlink:show=\"new\" xlink:title=\"psysml:f41e61cc-6798-4d33-9732-8d38e5de2049\" xlink:type=\"simple\"><g id=\"elem_E5\"><rect fill=\"#FFFFFF\" height=\"128.9648\" id=\"E5\" rx=\"10\" ry=\"10\" style=\"stroke:#181818;stroke-width:0.5;\" width=\"273\" x=\"32.5\" y=\"333\"/><text fill=\"#000000\" font-family=\"sans-serif\" font-size=\"12\" font-style=\"italic\" lengthAdjust=\"spacing\" textLength=\"40\" x=\"149\" y=\"349.1387\">«part»</text><text fill=\"#000000\" font-family=\"sans-serif\" font-size=\"14\" lengthAdjust=\"spacing\" textLength=\"31\" x=\"149.5\" y=\"364.9639\">CMS</text><line style=\"stroke:#181818;stroke-width:0.5;\" x1=\"33.5\" x2=\"304.5\" y1=\"373.2656\" y2=\"373.2656\"/><text fill=\"#000000\" font-family=\"monospace\" font-size=\"14\" lengthAdjust=\"spacing\" textLength=\"24\" x=\"38.5\" y=\"402.7503\">CMS</text><text fill=\"#000000\" font-family=\"sans-serif\" font-size=\"14\" lengthAdjust=\"spacing\" textLength=\"233\" x=\"62.5\" y=\"403.5505\">: This is the Combat Management</text><text fill=\"#000000\" font-family=\"sans-serif\" font-size=\"14\" lengthAdjust=\"spacing\" textLength=\"55\" x=\"38.5\" y=\"419.8474\">System.</text><text fill=\"#000000\" font-family=\"sans-serif\" font-size=\"14\" font-style=\"italic\" lengthAdjust=\"spacing\" textLength=\"26\" x=\"156\" y=\"385.6123\">doc</text><line style=\"stroke:#181818;stroke-width:1.0;\" x1=\"33.5\" x2=\"304.5\" y1=\"427.1492\" y2=\"427.1492\"/><text fill=\"#000000\" font-family=\"sans-serif\" font-size=\"14\" lengthAdjust=\"spacing\" textLength=\"190\" x=\"38.5\" y=\"454.663\">operationalMode: CS_Mode</text><text fill=\"#000000\" font-family=\"sans-serif\" font-size=\"14\" font-style=\"italic\" lengthAdjust=\"spacing\" textLength=\"66\" x=\"136\" y=\"439.4958\">attributes</text></g></a><!--MD5=[60a26617385b1d2d0262a64233df1f8d]\n",
       "class E6--><a href=\"psysml:71836896-13d8-415c-9d32-a578334d29eb\" target=\"_top\" title=\"psysml:71836896-13d8-415c-9d32-a578334d29eb\" xlink:actuate=\"onRequest\" xlink:href=\"psysml:71836896-13d8-415c-9d32-a578334d29eb\" xlink:show=\"new\" xlink:title=\"psysml:71836896-13d8-415c-9d32-a578334d29eb\" xlink:type=\"simple\"><g id=\"elem_E6\"><rect fill=\"#FFFFFF\" height=\"77.8523\" id=\"E6\" rx=\"10\" ry=\"10\" style=\"stroke:#181818;stroke-width:0.5;\" width=\"246\" x=\"46\" y=\"522\"/><text fill=\"#000000\" font-family=\"sans-serif\" font-size=\"12\" font-style=\"italic\" lengthAdjust=\"spacing\" textLength=\"40\" x=\"149\" y=\"538.1387\">«part»</text><text fill=\"#000000\" font-family=\"sans-serif\" font-size=\"14\" lengthAdjust=\"spacing\" textLength=\"23\" x=\"153.5\" y=\"553.9639\">DIS</text><line style=\"stroke:#181818;stroke-width:0.5;\" x1=\"47\" x2=\"291\" y1=\"562.2656\" y2=\"562.2656\"/><text fill=\"#000000\" font-family=\"monospace\" font-size=\"14\" lengthAdjust=\"spacing\" textLength=\"24\" x=\"52\" y=\"591.7503\">DIS</text><text fill=\"#000000\" font-family=\"sans-serif\" font-size=\"14\" lengthAdjust=\"spacing\" textLength=\"210\" x=\"76\" y=\"592.5505\">: This is the Display Subsytem.</text><text fill=\"#000000\" font-family=\"sans-serif\" font-size=\"14\" font-style=\"italic\" lengthAdjust=\"spacing\" textLength=\"26\" x=\"156\" y=\"574.6123\">doc</text></g></a><!--MD5=[2156ba9850f5573cc1fc38a6a4b2f02b]\n",
       "class E7--><a href=\"psysml:686e44a7-6e9f-448a-8fb1-ced652a2f939\" target=\"_top\" title=\"psysml:686e44a7-6e9f-448a-8fb1-ced652a2f939\" xlink:actuate=\"onRequest\" xlink:href=\"psysml:686e44a7-6e9f-448a-8fb1-ced652a2f939\" xlink:show=\"new\" xlink:title=\"psysml:686e44a7-6e9f-448a-8fb1-ced652a2f939\" xlink:type=\"simple\"><g id=\"elem_E7\"><rect fill=\"#FFFFFF\" height=\"77.8523\" id=\"E7\" rx=\"10\" ry=\"10\" style=\"stroke:#181818;stroke-width:0.5;\" width=\"245\" x=\"340.5\" y=\"358.5\"/><text fill=\"#000000\" font-family=\"sans-serif\" font-size=\"12\" font-style=\"italic\" lengthAdjust=\"spacing\" textLength=\"40\" x=\"443\" y=\"374.6387\">«part»</text><text fill=\"#000000\" font-family=\"sans-serif\" font-size=\"14\" lengthAdjust=\"spacing\" textLength=\"31\" x=\"443.5\" y=\"390.4639\">RDR</text><line style=\"stroke:#181818;stroke-width:0.5;\" x1=\"341.5\" x2=\"584.5\" y1=\"398.7656\" y2=\"398.7656\"/><text fill=\"#000000\" font-family=\"monospace\" font-size=\"14\" lengthAdjust=\"spacing\" textLength=\"24\" x=\"346.5\" y=\"428.2503\">RDR</text><text fill=\"#000000\" font-family=\"sans-serif\" font-size=\"14\" lengthAdjust=\"spacing\" textLength=\"209\" x=\"370.5\" y=\"429.0505\">: This is the Radar Subsystem.</text><text fill=\"#000000\" font-family=\"sans-serif\" font-size=\"14\" font-style=\"italic\" lengthAdjust=\"spacing\" textLength=\"26\" x=\"450\" y=\"411.1123\">doc</text></g></a><!--MD5=[b9389687b975829384b498ac4b7476b2]\n",
       "class E8--><a href=\"psysml:e96e59f6-03f7-49c6-8718-949bf1696397\" target=\"_top\" title=\"psysml:e96e59f6-03f7-49c6-8718-949bf1696397\" xlink:actuate=\"onRequest\" xlink:href=\"psysml:e96e59f6-03f7-49c6-8718-949bf1696397\" xlink:show=\"new\" xlink:title=\"psysml:e96e59f6-03f7-49c6-8718-949bf1696397\" xlink:type=\"simple\"><g id=\"elem_E8\"><rect fill=\"#FFFFFF\" height=\"94.1492\" id=\"E8\" rx=\"10\" ry=\"10\" style=\"stroke:#181818;stroke-width:0.5;\" width=\"213\" x=\"620.5\" y=\"350.5\"/><text fill=\"#000000\" font-family=\"sans-serif\" font-size=\"12\" font-style=\"italic\" lengthAdjust=\"spacing\" textLength=\"40\" x=\"707\" y=\"366.6387\">«part»</text><text fill=\"#000000\" font-family=\"sans-serif\" font-size=\"14\" lengthAdjust=\"spacing\" textLength=\"63\" x=\"691.5\" y=\"382.4639\">EXCOMM</text><line style=\"stroke:#181818;stroke-width:0.5;\" x1=\"621.5\" x2=\"832.5\" y1=\"390.7656\" y2=\"390.7656\"/><text fill=\"#000000\" font-family=\"monospace\" font-size=\"14\" lengthAdjust=\"spacing\" textLength=\"48\" x=\"626.5\" y=\"420.2503\">EXCOMM</text><text fill=\"#000000\" font-family=\"sans-serif\" font-size=\"14\" lengthAdjust=\"spacing\" textLength=\"139\" x=\"674.5\" y=\"421.0505\">: This is the External</text><text fill=\"#000000\" font-family=\"sans-serif\" font-size=\"14\" lengthAdjust=\"spacing\" textLength=\"201\" x=\"626.5\" y=\"437.3474\">Communications Subsystem.</text><text fill=\"#000000\" font-family=\"sans-serif\" font-size=\"14\" font-style=\"italic\" lengthAdjust=\"spacing\" textLength=\"26\" x=\"714\" y=\"403.1123\">doc</text></g></a><!--MD5=[fd4143e9d270a159db93a4ea2a975926]\n",
       "class E9--><a href=\"psysml:ebf65344-38d3-4b6a-8e77-74ce50a64aba\" target=\"_top\" title=\"psysml:ebf65344-38d3-4b6a-8e77-74ce50a64aba\" xlink:actuate=\"onRequest\" xlink:href=\"psysml:ebf65344-38d3-4b6a-8e77-74ce50a64aba\" xlink:show=\"new\" xlink:title=\"psysml:ebf65344-38d3-4b6a-8e77-74ce50a64aba\" xlink:type=\"simple\"><g id=\"elem_E9\"><rect fill=\"#FFFFFF\" height=\"128.9648\" id=\"E9\" rx=\"10\" ry=\"10\" style=\"stroke:#181818;stroke-width:0.5;\" width=\"260\" x=\"869\" y=\"333\"/><text fill=\"#000000\" font-family=\"sans-serif\" font-size=\"12\" font-style=\"italic\" lengthAdjust=\"spacing\" textLength=\"40\" x=\"979\" y=\"349.1387\">«part»</text><text fill=\"#000000\" font-family=\"sans-serif\" font-size=\"14\" lengthAdjust=\"spacing\" textLength=\"52\" x=\"969\" y=\"364.9639\">OTHWS</text><line style=\"stroke:#181818;stroke-width:0.5;\" x1=\"870\" x2=\"1128\" y1=\"373.2656\" y2=\"373.2656\"/><text fill=\"#000000\" font-family=\"monospace\" font-size=\"14\" lengthAdjust=\"spacing\" textLength=\"40\" x=\"875\" y=\"402.7503\">OTHWS</text><text fill=\"#000000\" font-family=\"sans-serif\" font-size=\"14\" lengthAdjust=\"spacing\" textLength=\"204\" x=\"915\" y=\"403.5505\">: This is the Over The Horizon</text><text fill=\"#000000\" font-family=\"sans-serif\" font-size=\"14\" lengthAdjust=\"spacing\" textLength=\"142\" x=\"875\" y=\"419.8474\">Weapon Subsystem.</text><text fill=\"#000000\" font-family=\"sans-serif\" font-size=\"14\" font-style=\"italic\" lengthAdjust=\"spacing\" textLength=\"26\" x=\"986\" y=\"385.6123\">doc</text><line style=\"stroke:#181818;stroke-width:1.0;\" x1=\"870\" x2=\"1128\" y1=\"427.1492\" y2=\"427.1492\"/><text fill=\"#000000\" font-family=\"sans-serif\" font-size=\"14\" lengthAdjust=\"spacing\" textLength=\"132\" x=\"875\" y=\"454.663\">num_missiles: Real</text><text fill=\"#000000\" font-family=\"sans-serif\" font-size=\"14\" font-style=\"italic\" lengthAdjust=\"spacing\" textLength=\"66\" x=\"966\" y=\"439.4958\">attributes</text></g></a><!--MD5=[96f4274e9e20536e775497830990834d]\n",
       "class E10--><a href=\"psysml:fa22fcdf-e97d-4cc5-aa98-fddad2d805d5\" target=\"_top\" title=\"psysml:fa22fcdf-e97d-4cc5-aa98-fddad2d805d5\" xlink:actuate=\"onRequest\" xlink:href=\"psysml:fa22fcdf-e97d-4cc5-aa98-fddad2d805d5\" xlink:show=\"new\" xlink:title=\"psysml:fa22fcdf-e97d-4cc5-aa98-fddad2d805d5\" xlink:type=\"simple\"><g id=\"elem_E10\"><rect fill=\"#FFFFFF\" height=\"77.8523\" id=\"E10\" rx=\"10\" ry=\"10\" style=\"stroke:#181818;stroke-width:0.5;\" width=\"269\" x=\"1164.5\" y=\"358.5\"/><text fill=\"#000000\" font-family=\"sans-serif\" font-size=\"12\" font-style=\"italic\" lengthAdjust=\"spacing\" textLength=\"40\" x=\"1279\" y=\"374.6387\">«part»</text><text fill=\"#000000\" font-family=\"sans-serif\" font-size=\"14\" lengthAdjust=\"spacing\" textLength=\"33\" x=\"1278.5\" y=\"390.4639\">GWS</text><line style=\"stroke:#181818;stroke-width:0.5;\" x1=\"1165.5\" x2=\"1432.5\" y1=\"398.7656\" y2=\"398.7656\"/><text fill=\"#000000\" font-family=\"monospace\" font-size=\"14\" lengthAdjust=\"spacing\" textLength=\"24\" x=\"1170.5\" y=\"428.2503\">GWS</text><text fill=\"#000000\" font-family=\"sans-serif\" font-size=\"14\" lengthAdjust=\"spacing\" textLength=\"233\" x=\"1194.5\" y=\"429.0505\">: This is the Gun Weapon System.</text><text fill=\"#000000\" font-family=\"sans-serif\" font-size=\"14\" font-style=\"italic\" lengthAdjust=\"spacing\" textLength=\"26\" x=\"1286\" y=\"411.1123\">doc</text></g></a><!--MD5=[4672eba38e49728da53d11aeb285b987]\n",
       "reverse link E3 to E4--><g id=\"link_E3_E4\"><a href=\"psysml:86e19d02-3176-4c6c-969a-27fb7ea6a06b\" target=\"_top\" title=\"psysml:86e19d02-3176-4c6c-969a-27fb7ea6a06b\" xlink:actuate=\"onRequest\" xlink:href=\"psysml:86e19d02-3176-4c6c-969a-27fb7ea6a06b\" xlink:show=\"new\" xlink:title=\"psysml:86e19d02-3176-4c6c-969a-27fb7ea6a06b\" xlink:type=\"simple\"><path d=\"M727,140.49 C727,167.03 727,202.16 727,224.92 \" fill=\"none\" id=\"E3-backto-E4\" style=\"stroke:#181818;stroke-width:1.0;\"/><polygon fill=\"#181818\" points=\"727,127.14,723,133.14,727,139.14,731,133.14,727,127.14\" style=\"stroke:#181818;stroke-width:1.0;\"/><text fill=\"#000000\" font-family=\"sans-serif\" font-size=\"13\" lengthAdjust=\"spacing\" textLength=\"8\" x=\"717.975\" y=\"213.8775\">1</text></a></g><!--MD5=[62aa6af11e70f752912c1cb0466f24f7]\n",
       "reverse link E4 to E5--><g id=\"link_E4_E5\"><a href=\"psysml:95d998ec-8475-4029-bc7c-1da0506f639e\" target=\"_top\" title=\"psysml:95d998ec-8475-4029-bc7c-1da0506f639e\" xlink:actuate=\"onRequest\" xlink:href=\"psysml:95d998ec-8475-4029-bc7c-1da0506f639e\" xlink:show=\"new\" xlink:title=\"psysml:95d998ec-8475-4029-bc7c-1da0506f639e\" xlink:type=\"simple\"><path d=\"M603.05,269.23 C522.33,283.27 415.26,304.78 323,333 C317.33,334.73 311.58,336.6 305.8,338.56 \" fill=\"none\" id=\"E4-backto-E5\" style=\"stroke:#181818;stroke-width:1.0;\"/><polygon fill=\"#181818\" points=\"616.28,266.95,609.6897,264.0229,604.453,268.9805,611.0433,271.9076,616.28,266.95\" style=\"stroke:#181818;stroke-width:1.0;\"/><text fill=\"#000000\" font-family=\"sans-serif\" font-size=\"13\" lengthAdjust=\"spacing\" textLength=\"8\" x=\"313.5\" y=\"331.9981\">1</text></a></g><!--MD5=[85d356282659285ab4b2cfe2f634dd2b]\n",
       "reverse link E5 to E6--><g id=\"link_E5_E6\"><a href=\"psysml:af3a6876-6ed4-4240-8317-5f2286ab7a8c\" target=\"_top\" title=\"psysml:af3a6876-6ed4-4240-8317-5f2286ab7a8c\" xlink:actuate=\"onRequest\" xlink:href=\"psysml:af3a6876-6ed4-4240-8317-5f2286ab7a8c\" xlink:show=\"new\" xlink:title=\"psysml:af3a6876-6ed4-4240-8317-5f2286ab7a8c\" xlink:type=\"simple\"><path d=\"M169,475.68 C169,491.68 169,507.88 169,521.74 \" fill=\"none\" id=\"E5-backto-E6\" style=\"stroke:#181818;stroke-width:1.0;\"/><polygon fill=\"#181818\" points=\"169,462.33,165,468.33,169,474.33,173,468.33,169,462.33\" style=\"stroke:#181818;stroke-width:1.0;\"/><text fill=\"#000000\" font-family=\"sans-serif\" font-size=\"13\" lengthAdjust=\"spacing\" textLength=\"8\" x=\"160.3125\" y=\"510.7941\">5</text></a></g><!--MD5=[722ff4eef345aa10242dad44df0e98c7]\n",
       "reverse link E4 to E7--><g id=\"link_E4_E7\"><a href=\"psysml:3c3522a2-bc77-4afd-b757-90fc7da4a9aa\" target=\"_top\" title=\"psysml:3c3522a2-bc77-4afd-b757-90fc7da4a9aa\" xlink:actuate=\"onRequest\" xlink:href=\"psysml:3c3522a2-bc77-4afd-b757-90fc7da4a9aa\" xlink:show=\"new\" xlink:title=\"psysml:3c3522a2-bc77-4afd-b757-90fc7da4a9aa\" xlink:type=\"simple\"><path d=\"M674.09,279.36 C633.1,302.11 576,333.79 531.52,358.48 \" fill=\"none\" id=\"E4-backto-E7\" style=\"stroke:#181818;stroke-width:1.0;\"/><polygon fill=\"#181818\" points=\"685.46,273.05,678.2726,272.4657,674.9689,278.8755,682.1563,279.4598,685.46,273.05\" style=\"stroke:#181818;stroke-width:1.0;\"/><text fill=\"#000000\" font-family=\"sans-serif\" font-size=\"13\" lengthAdjust=\"spacing\" textLength=\"8\" x=\"534.6094\" y=\"347.5754\">1</text></a></g><!--MD5=[c6fc7cdb0cabde04948078cf183fa696]\n",
       "reverse link E4 to E8--><g id=\"link_E4_E8\"><a href=\"psysml:c8340be4-5cef-4457-b731-df027986156f\" target=\"_top\" title=\"psysml:c8340be4-5cef-4457-b731-df027986156f\" xlink:actuate=\"onRequest\" xlink:href=\"psysml:c8340be4-5cef-4457-b731-df027986156f\" xlink:show=\"new\" xlink:title=\"psysml:c8340be4-5cef-4457-b731-df027986156f\" xlink:type=\"simple\"><path d=\"M727,286.36 C727,305.71 727,329.7 727,350.35 \" fill=\"none\" id=\"E4-backto-E8\" style=\"stroke:#181818;stroke-width:1.0;\"/><polygon fill=\"#181818\" points=\"727,273.21,723,279.21,727,285.21,731,279.21,727,273.21\" style=\"stroke:#181818;stroke-width:1.0;\"/><text fill=\"#000000\" font-family=\"sans-serif\" font-size=\"13\" lengthAdjust=\"spacing\" textLength=\"8\" x=\"718.4125\" y=\"339.389\">1</text></a></g><!--MD5=[e7ea4bd30698dc91ca0c06b9d8e4f891]\n",
       "reverse link E4 to E9--><g id=\"link_E4_E9\"><a href=\"psysml:91c84594-f5ae-48cb-ad4e-2b6a9e4333f6\" target=\"_top\" title=\"psysml:91c84594-f5ae-48cb-ad4e-2b6a9e4333f6\" xlink:actuate=\"onRequest\" xlink:href=\"psysml:91c84594-f5ae-48cb-ad4e-2b6a9e4333f6\" xlink:show=\"new\" xlink:title=\"psysml:91c84594-f5ae-48cb-ad4e-2b6a9e4333f6\" xlink:type=\"simple\"><path d=\"M781.57,279.39 C810.18,294.8 846.39,314.31 881.03,332.96 \" fill=\"none\" id=\"E4-backto-E9\" style=\"stroke:#181818;stroke-width:1.0;\"/><polygon fill=\"#181818\" points=\"769.8,273.05,773.1883,279.4155,780.3673,278.7361,776.979,272.3706,769.8,273.05\" style=\"stroke:#181818;stroke-width:1.0;\"/><text fill=\"#000000\" font-family=\"sans-serif\" font-size=\"13\" lengthAdjust=\"spacing\" textLength=\"8\" x=\"859.6895\" y=\"322.1567\">2</text></a></g><!--MD5=[f119e7f268ff8fee167b0c2c9936af30]\n",
       "reverse link E4 to E10--><g id=\"link_E4_E10\"><a href=\"psysml:60f81346-4ac4-433a-8378-d0f4c603f068\" target=\"_top\" title=\"psysml:60f81346-4ac4-433a-8378-d0f4c603f068\" xlink:actuate=\"onRequest\" xlink:href=\"psysml:60f81346-4ac4-433a-8378-d0f4c603f068\" xlink:show=\"new\" xlink:title=\"psysml:60f81346-4ac4-433a-8378-d0f4c603f068\" xlink:type=\"simple\"><path d=\"M850.74,267.75 C935.25,281.5 1049.2,303.24 1147,333 C1169.98,339.99 1194.25,349.24 1216.48,358.5 \" fill=\"none\" id=\"E4-backto-E10\" style=\"stroke:#181818;stroke-width:1.0;\"/><polygon fill=\"#181818\" points=\"837.7,265.65,842.9865,270.5544,849.5469,267.5608,844.2604,262.6564,837.7,265.65\" style=\"stroke:#181818;stroke-width:1.0;\"/><text fill=\"#000000\" font-family=\"sans-serif\" font-size=\"13\" lengthAdjust=\"spacing\" textLength=\"8\" x=\"1193.0686\" y=\"347.3091\">2</text></a></g><!--MD5=[7c06ff560003338b58cce25e436c0d87]\n",
       "@startuml\r\n",
       "skin sysmlbw\r\n",
       "skinparam monochrome true\r\n",
       "skinparam wrapWidth 300\r\n",
       "hide circle\r\n",
       "\r\n",
       "package \"USS_Dahlgren_Architecture\" as E1  [[psysml:5edfa1e6-4e5a-4f24-b98b-35e02b94b678 ]]  {\r\n",
       "comp def \"<i>CS_Mode</i>\" as E2  <<(T,blue) enum  def>> [[psysml:dcf6357d-0e4d-442a-b2fc-2eca042255d5 ]] {\r\n",
       "##//enums//##\r\n",
       "standby\r\n",
       "tactical\r\n",
       "training\r\n",
       "test\r\n",
       "}\r\n",
       "comp usage \"USS_Dahlgren  \" as E3  <<(T,blue) part>> [[psysml:95f89643-69c9-41f5-952c-078a62e1f0b7 ]] {\r\n",
       "}\r\n",
       "comp usage \"Surface Combat System (SCS)  \" as E4  <<(T,blue) part>> [[psysml:209cc531-e093-4947-8a49-092d870438ce ]] {\r\n",
       "}\r\n",
       "comp usage \"CMS  \" as E5  <<(T,blue) part>> [[psysml:f41e61cc-6798-4d33-9732-8d38e5de2049 ]] {\r\n",
       "##//doc//##\r\n",
       "\"\"CMS\"\": This is the Combat Management System.\r\n",
       "- -\r\n",
       "##//attributes//##\r\n",
       "operationalMode: CS_Mode\r\n",
       "}\r\n",
       "comp usage \"DIS  \" as E6  <<(T,blue) part>> [[psysml:71836896-13d8-415c-9d32-a578334d29eb ]] {\r\n",
       "##//doc//##\r\n",
       "\"\"DIS\"\": This is the Display Subsytem.\r\n",
       "}\r\n",
       "comp usage \"RDR  \" as E7  <<(T,blue) part>> [[psysml:686e44a7-6e9f-448a-8fb1-ced652a2f939 ]] {\r\n",
       "##//doc//##\r\n",
       "\"\"RDR\"\": This is the Radar Subsystem.\r\n",
       "}\r\n",
       "comp usage \"EXCOMM  \" as E8  <<(T,blue) part>> [[psysml:e96e59f6-03f7-49c6-8718-949bf1696397 ]] {\r\n",
       "##//doc//##\r\n",
       "\"\"EXCOMM\"\": This is the External Communications Subsystem.\r\n",
       "}\r\n",
       "comp usage \"OTHWS  \" as E9  <<(T,blue) part>> [[psysml:ebf65344-38d3-4b6a-8e77-74ce50a64aba ]] {\r\n",
       "##//doc//##\r\n",
       "\"\"OTHWS\"\": This is the Over The Horizon Weapon Subsystem.\r\n",
       "- -\r\n",
       "##//attributes//##\r\n",
       "num_missiles: Real\r\n",
       "}\r\n",
       "comp usage \"GWS  \" as E10  <<(T,blue) part>> [[psysml:fa22fcdf-e97d-4cc5-aa98-fddad2d805d5 ]] {\r\n",
       "##//doc//##\r\n",
       "\"\"GWS\"\": This is the Gun Weapon System.\r\n",
       "}\r\n",
       "}\r\n",
       "E3 *- - \"1\"E4 [[psysml:86e19d02-3176-4c6c-969a-27fb7ea6a06b ]] \r\n",
       "E4 *- - \"1\"E5 [[psysml:95d998ec-8475-4029-bc7c-1da0506f639e ]] \r\n",
       "E5 *- - \"5\"E6 [[psysml:af3a6876-6ed4-4240-8317-5f2286ab7a8c ]] \r\n",
       "E4 *- - \"1\"E7 [[psysml:3c3522a2-bc77-4afd-b757-90fc7da4a9aa ]] \r\n",
       "E4 *- - \"1\"E8 [[psysml:c8340be4-5cef-4457-b731-df027986156f ]] \r\n",
       "E4 *- - \"2\"E9 [[psysml:91c84594-f5ae-48cb-ad4e-2b6a9e4333f6 ]] \r\n",
       "E4 *- - \"2\"E10 [[psysml:60f81346-4ac4-433a-8378-d0f4c603f068 ]] \r\n",
       "@enduml\r\n",
       "\n",
       "PlantUML version 1.2022.7(Mon Aug 22 17:01:30 UTC 2022)\n",
       "(EPL source distribution)\n",
       "Java Runtime: OpenJDK Runtime Environment\n",
       "JVM: OpenJDK 64-Bit Server VM\n",
       "Default Encoding: UTF-8\n",
       "Language: en\n",
       "Country: null\n",
       "--></g></svg>"
      ]
     },
     "execution_count": 12,
     "metadata": {},
     "output_type": "execute_result"
    }
   ],
   "source": [
    "%viz --view=Tree USS_Dahlgren_Architecture"
   ]
  },
  {
   "cell_type": "code",
   "execution_count": null,
   "id": "8fc9b209",
   "metadata": {},
   "outputs": [],
   "source": []
  }
 ],
 "metadata": {
  "kernelspec": {
   "display_name": "SysML",
   "language": "sysml",
   "name": "sysml"
  },
  "language_info": {
   "codemirror_mode": "sysml",
   "file_extension": ".sysml",
   "mimetype": "text/x-sysml",
   "name": "SysML",
   "pygments_lexer": "java",
   "version": "1.0.0"
  }
 },
 "nbformat": 4,
 "nbformat_minor": 5
}
